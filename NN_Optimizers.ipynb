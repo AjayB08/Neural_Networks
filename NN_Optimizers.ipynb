{
  "nbformat": 4,
  "nbformat_minor": 0,
  "metadata": {
    "colab": {
      "provenance": [],
      "authorship_tag": "ABX9TyOQmEsdb0Xfxcgnyb53yX+D",
      "include_colab_link": true
    },
    "kernelspec": {
      "name": "python3",
      "display_name": "Python 3"
    },
    "language_info": {
      "name": "python"
    }
  },
  "cells": [
    {
      "cell_type": "markdown",
      "metadata": {
        "id": "view-in-github",
        "colab_type": "text"
      },
      "source": [
        "<a href=\"https://colab.research.google.com/github/AjayB08/Neural_Networks/blob/main/NN_Optimizers.ipynb\" target=\"_parent\"><img src=\"https://colab.research.google.com/assets/colab-badge.svg\" alt=\"Open In Colab\"/></a>"
      ]
    },
    {
      "cell_type": "markdown",
      "source": [
        "#**Business Case**"
      ],
      "metadata": {
        "id": "HQtMLIj6KlFp"
      }
    },
    {
      "cell_type": "markdown",
      "source": [
        "You are working at grocery store chain, which has different stores buying various products. Based on the purchase history :\n",
        "*   you want to divide the stores into classes for better inventory management and customer handling."
      ],
      "metadata": {
        "id": "fXr6PUpDKvT0"
      }
    },
    {
      "cell_type": "code",
      "execution_count": 3,
      "metadata": {
        "id": "k5mNvcEQJ2D6"
      },
      "outputs": [],
      "source": [
        "import numpy as np\n",
        "import pandas as pd\n",
        "import matplotlib.pyplot as plt\n",
        "import seaborn as sns"
      ]
    },
    {
      "cell_type": "code",
      "source": [
        "#Load data\n",
        "!gdown 1ZdhRqYv-JizWV6DxO6C4R_k1kxPhmlF2"
      ],
      "metadata": {
        "colab": {
          "base_uri": "https://localhost:8080/"
        },
        "id": "px5fFOSOLlfZ",
        "outputId": "209dc09a-27a2-4cbc-cdfa-e7608e8adca5"
      },
      "execution_count": 4,
      "outputs": [
        {
          "output_type": "stream",
          "name": "stdout",
          "text": [
            "Downloading...\n",
            "From: https://drive.google.com/uc?id=1ZdhRqYv-JizWV6DxO6C4R_k1kxPhmlF2\n",
            "To: /content/multiclass.csv\n",
            "\r  0% 0.00/14.6k [00:00<?, ?B/s]\r100% 14.6k/14.6k [00:00<00:00, 27.7MB/s]\n"
          ]
        }
      ]
    },
    {
      "cell_type": "markdown",
      "source": [
        "**Data Description:**\n",
        "\n",
        "\n",
        "| Id | Features | Description |\n",
        "| :-- | :--| :--|\n",
        "|01| **Region** | Region of the store (1: Less purchase 2: frequent purchase 3: high purchase|\n",
        "|02| **Fresh** | How many fresh items are brought |\n",
        "|03|**Milk**| How many units of Milk is purchased |\n",
        "|04|**Grocery**|Units of Grocery bought for the store |\n",
        "|05|**Frozen**|Frozen items purchased |\n",
        "|06|**Detergents_Paper**|Unit of Detergents and paper bought |\n",
        "|07|**Delicassen**|Food related items |\n",
        "|08|**class**| Type/Category of the Store (1 ,2 , 3)|"
      ],
      "metadata": {
        "id": "WQYGq8uuL1cq"
      }
    },
    {
      "cell_type": "code",
      "source": [
        "df = pd.read_csv(\"multiclass.csv\")\n",
        "df.head()"
      ],
      "metadata": {
        "colab": {
          "base_uri": "https://localhost:8080/",
          "height": 206
        },
        "id": "K6HPGwHuLw9z",
        "outputId": "7c811d7a-8471-409a-e75a-70265a5c27ec"
      },
      "execution_count": 5,
      "outputs": [
        {
          "output_type": "execute_result",
          "data": {
            "text/plain": [
              "   Region  Fresh  Milk  Grocery  Frozen  Detergents_Paper  Delicassen  class\n",
              "0       3  12669  9656     7561     214              2674        1338      2\n",
              "1       3   7057  9810     9568    1762              3293        1776      2\n",
              "2       3   6353  8808     7684    2405              3516        7844      2\n",
              "3       3  13265  1196     4221    6404               507        1788      1\n",
              "4       3  22615  5410     7198    3915              1777        5185      1"
            ],
            "text/html": [
              "\n",
              "\n",
              "  <div id=\"df-d7bd286d-50ec-430c-87f4-f3331dd26bbb\">\n",
              "    <div class=\"colab-df-container\">\n",
              "      <div>\n",
              "<style scoped>\n",
              "    .dataframe tbody tr th:only-of-type {\n",
              "        vertical-align: middle;\n",
              "    }\n",
              "\n",
              "    .dataframe tbody tr th {\n",
              "        vertical-align: top;\n",
              "    }\n",
              "\n",
              "    .dataframe thead th {\n",
              "        text-align: right;\n",
              "    }\n",
              "</style>\n",
              "<table border=\"1\" class=\"dataframe\">\n",
              "  <thead>\n",
              "    <tr style=\"text-align: right;\">\n",
              "      <th></th>\n",
              "      <th>Region</th>\n",
              "      <th>Fresh</th>\n",
              "      <th>Milk</th>\n",
              "      <th>Grocery</th>\n",
              "      <th>Frozen</th>\n",
              "      <th>Detergents_Paper</th>\n",
              "      <th>Delicassen</th>\n",
              "      <th>class</th>\n",
              "    </tr>\n",
              "  </thead>\n",
              "  <tbody>\n",
              "    <tr>\n",
              "      <th>0</th>\n",
              "      <td>3</td>\n",
              "      <td>12669</td>\n",
              "      <td>9656</td>\n",
              "      <td>7561</td>\n",
              "      <td>214</td>\n",
              "      <td>2674</td>\n",
              "      <td>1338</td>\n",
              "      <td>2</td>\n",
              "    </tr>\n",
              "    <tr>\n",
              "      <th>1</th>\n",
              "      <td>3</td>\n",
              "      <td>7057</td>\n",
              "      <td>9810</td>\n",
              "      <td>9568</td>\n",
              "      <td>1762</td>\n",
              "      <td>3293</td>\n",
              "      <td>1776</td>\n",
              "      <td>2</td>\n",
              "    </tr>\n",
              "    <tr>\n",
              "      <th>2</th>\n",
              "      <td>3</td>\n",
              "      <td>6353</td>\n",
              "      <td>8808</td>\n",
              "      <td>7684</td>\n",
              "      <td>2405</td>\n",
              "      <td>3516</td>\n",
              "      <td>7844</td>\n",
              "      <td>2</td>\n",
              "    </tr>\n",
              "    <tr>\n",
              "      <th>3</th>\n",
              "      <td>3</td>\n",
              "      <td>13265</td>\n",
              "      <td>1196</td>\n",
              "      <td>4221</td>\n",
              "      <td>6404</td>\n",
              "      <td>507</td>\n",
              "      <td>1788</td>\n",
              "      <td>1</td>\n",
              "    </tr>\n",
              "    <tr>\n",
              "      <th>4</th>\n",
              "      <td>3</td>\n",
              "      <td>22615</td>\n",
              "      <td>5410</td>\n",
              "      <td>7198</td>\n",
              "      <td>3915</td>\n",
              "      <td>1777</td>\n",
              "      <td>5185</td>\n",
              "      <td>1</td>\n",
              "    </tr>\n",
              "  </tbody>\n",
              "</table>\n",
              "</div>\n",
              "      <button class=\"colab-df-convert\" onclick=\"convertToInteractive('df-d7bd286d-50ec-430c-87f4-f3331dd26bbb')\"\n",
              "              title=\"Convert this dataframe to an interactive table.\"\n",
              "              style=\"display:none;\">\n",
              "\n",
              "  <svg xmlns=\"http://www.w3.org/2000/svg\" height=\"24px\"viewBox=\"0 0 24 24\"\n",
              "       width=\"24px\">\n",
              "    <path d=\"M0 0h24v24H0V0z\" fill=\"none\"/>\n",
              "    <path d=\"M18.56 5.44l.94 2.06.94-2.06 2.06-.94-2.06-.94-.94-2.06-.94 2.06-2.06.94zm-11 1L8.5 8.5l.94-2.06 2.06-.94-2.06-.94L8.5 2.5l-.94 2.06-2.06.94zm10 10l.94 2.06.94-2.06 2.06-.94-2.06-.94-.94-2.06-.94 2.06-2.06.94z\"/><path d=\"M17.41 7.96l-1.37-1.37c-.4-.4-.92-.59-1.43-.59-.52 0-1.04.2-1.43.59L10.3 9.45l-7.72 7.72c-.78.78-.78 2.05 0 2.83L4 21.41c.39.39.9.59 1.41.59.51 0 1.02-.2 1.41-.59l7.78-7.78 2.81-2.81c.8-.78.8-2.07 0-2.86zM5.41 20L4 18.59l7.72-7.72 1.47 1.35L5.41 20z\"/>\n",
              "  </svg>\n",
              "      </button>\n",
              "\n",
              "\n",
              "\n",
              "    <div id=\"df-daeba4f7-f227-4647-8fb5-d392c673e250\">\n",
              "      <button class=\"colab-df-quickchart\" onclick=\"quickchart('df-daeba4f7-f227-4647-8fb5-d392c673e250')\"\n",
              "              title=\"Suggest charts.\"\n",
              "              style=\"display:none;\">\n",
              "\n",
              "<svg xmlns=\"http://www.w3.org/2000/svg\" height=\"24px\"viewBox=\"0 0 24 24\"\n",
              "     width=\"24px\">\n",
              "    <g>\n",
              "        <path d=\"M19 3H5c-1.1 0-2 .9-2 2v14c0 1.1.9 2 2 2h14c1.1 0 2-.9 2-2V5c0-1.1-.9-2-2-2zM9 17H7v-7h2v7zm4 0h-2V7h2v10zm4 0h-2v-4h2v4z\"/>\n",
              "    </g>\n",
              "</svg>\n",
              "      </button>\n",
              "    </div>\n",
              "\n",
              "<style>\n",
              "  .colab-df-quickchart {\n",
              "    background-color: #E8F0FE;\n",
              "    border: none;\n",
              "    border-radius: 50%;\n",
              "    cursor: pointer;\n",
              "    display: none;\n",
              "    fill: #1967D2;\n",
              "    height: 32px;\n",
              "    padding: 0 0 0 0;\n",
              "    width: 32px;\n",
              "  }\n",
              "\n",
              "  .colab-df-quickchart:hover {\n",
              "    background-color: #E2EBFA;\n",
              "    box-shadow: 0px 1px 2px rgba(60, 64, 67, 0.3), 0px 1px 3px 1px rgba(60, 64, 67, 0.15);\n",
              "    fill: #174EA6;\n",
              "  }\n",
              "\n",
              "  [theme=dark] .colab-df-quickchart {\n",
              "    background-color: #3B4455;\n",
              "    fill: #D2E3FC;\n",
              "  }\n",
              "\n",
              "  [theme=dark] .colab-df-quickchart:hover {\n",
              "    background-color: #434B5C;\n",
              "    box-shadow: 0px 1px 3px 1px rgba(0, 0, 0, 0.15);\n",
              "    filter: drop-shadow(0px 1px 2px rgba(0, 0, 0, 0.3));\n",
              "    fill: #FFFFFF;\n",
              "  }\n",
              "</style>\n",
              "\n",
              "    <script>\n",
              "      async function quickchart(key) {\n",
              "        const containerElement = document.querySelector('#' + key);\n",
              "        const charts = await google.colab.kernel.invokeFunction(\n",
              "            'suggestCharts', [key], {});\n",
              "      }\n",
              "    </script>\n",
              "\n",
              "      <script>\n",
              "\n",
              "function displayQuickchartButton(domScope) {\n",
              "  let quickchartButtonEl =\n",
              "    domScope.querySelector('#df-daeba4f7-f227-4647-8fb5-d392c673e250 button.colab-df-quickchart');\n",
              "  quickchartButtonEl.style.display =\n",
              "    google.colab.kernel.accessAllowed ? 'block' : 'none';\n",
              "}\n",
              "\n",
              "        displayQuickchartButton(document);\n",
              "      </script>\n",
              "      <style>\n",
              "    .colab-df-container {\n",
              "      display:flex;\n",
              "      flex-wrap:wrap;\n",
              "      gap: 12px;\n",
              "    }\n",
              "\n",
              "    .colab-df-convert {\n",
              "      background-color: #E8F0FE;\n",
              "      border: none;\n",
              "      border-radius: 50%;\n",
              "      cursor: pointer;\n",
              "      display: none;\n",
              "      fill: #1967D2;\n",
              "      height: 32px;\n",
              "      padding: 0 0 0 0;\n",
              "      width: 32px;\n",
              "    }\n",
              "\n",
              "    .colab-df-convert:hover {\n",
              "      background-color: #E2EBFA;\n",
              "      box-shadow: 0px 1px 2px rgba(60, 64, 67, 0.3), 0px 1px 3px 1px rgba(60, 64, 67, 0.15);\n",
              "      fill: #174EA6;\n",
              "    }\n",
              "\n",
              "    [theme=dark] .colab-df-convert {\n",
              "      background-color: #3B4455;\n",
              "      fill: #D2E3FC;\n",
              "    }\n",
              "\n",
              "    [theme=dark] .colab-df-convert:hover {\n",
              "      background-color: #434B5C;\n",
              "      box-shadow: 0px 1px 3px 1px rgba(0, 0, 0, 0.15);\n",
              "      filter: drop-shadow(0px 1px 2px rgba(0, 0, 0, 0.3));\n",
              "      fill: #FFFFFF;\n",
              "    }\n",
              "  </style>\n",
              "\n",
              "      <script>\n",
              "        const buttonEl =\n",
              "          document.querySelector('#df-d7bd286d-50ec-430c-87f4-f3331dd26bbb button.colab-df-convert');\n",
              "        buttonEl.style.display =\n",
              "          google.colab.kernel.accessAllowed ? 'block' : 'none';\n",
              "\n",
              "        async function convertToInteractive(key) {\n",
              "          const element = document.querySelector('#df-d7bd286d-50ec-430c-87f4-f3331dd26bbb');\n",
              "          const dataTable =\n",
              "            await google.colab.kernel.invokeFunction('convertToInteractive',\n",
              "                                                     [key], {});\n",
              "          if (!dataTable) return;\n",
              "\n",
              "          const docLinkHtml = 'Like what you see? Visit the ' +\n",
              "            '<a target=\"_blank\" href=https://colab.research.google.com/notebooks/data_table.ipynb>data table notebook</a>'\n",
              "            + ' to learn more about interactive tables.';\n",
              "          element.innerHTML = '';\n",
              "          dataTable['output_type'] = 'display_data';\n",
              "          await google.colab.output.renderOutput(dataTable, element);\n",
              "          const docLink = document.createElement('div');\n",
              "          docLink.innerHTML = docLinkHtml;\n",
              "          element.appendChild(docLink);\n",
              "        }\n",
              "      </script>\n",
              "    </div>\n",
              "  </div>\n"
            ]
          },
          "metadata": {},
          "execution_count": 5
        }
      ]
    },
    {
      "cell_type": "code",
      "source": [
        "df.shape"
      ],
      "metadata": {
        "colab": {
          "base_uri": "https://localhost:8080/"
        },
        "id": "2tZ48yaeMLbo",
        "outputId": "0feb62c8-8fab-4e86-b6ef-7bb3495998e2"
      },
      "execution_count": 6,
      "outputs": [
        {
          "output_type": "execute_result",
          "data": {
            "text/plain": [
              "(440, 8)"
            ]
          },
          "metadata": {},
          "execution_count": 6
        }
      ]
    },
    {
      "cell_type": "markdown",
      "source": [
        "Total Number of samples and features of the data:\n",
        "<center>\n",
        "\n",
        "| Records | Features |\n",
        "| :-- | :-- |\n",
        "| 440 | 8 |"
      ],
      "metadata": {
        "id": "5Lnuo179MT4X"
      }
    },
    {
      "cell_type": "markdown",
      "source": [
        "##EDA"
      ],
      "metadata": {
        "id": "X9U2xAMmMXEy"
      }
    },
    {
      "cell_type": "code",
      "source": [
        "df.isna().sum(axis=0)"
      ],
      "metadata": {
        "colab": {
          "base_uri": "https://localhost:8080/"
        },
        "id": "CFrghx7jM1Zg",
        "outputId": "d10a6444-133b-4b5e-bd5f-359ab3c18363"
      },
      "execution_count": 7,
      "outputs": [
        {
          "output_type": "execute_result",
          "data": {
            "text/plain": [
              "Region              0\n",
              "Fresh               0\n",
              "Milk                0\n",
              "Grocery             0\n",
              "Frozen              0\n",
              "Detergents_Paper    0\n",
              "Delicassen          0\n",
              "class               0\n",
              "dtype: int64"
            ]
          },
          "metadata": {},
          "execution_count": 7
        }
      ]
    },
    {
      "cell_type": "markdown",
      "source": [
        "No null value present for any feature."
      ],
      "metadata": {
        "id": "cY5c7M28NQE8"
      }
    },
    {
      "cell_type": "code",
      "source": [
        "df.nunique()"
      ],
      "metadata": {
        "colab": {
          "base_uri": "https://localhost:8080/"
        },
        "id": "q3JfLEeoMM6X",
        "outputId": "5590abbb-6043-4e4e-b6dd-44ad52633cc2"
      },
      "execution_count": 8,
      "outputs": [
        {
          "output_type": "execute_result",
          "data": {
            "text/plain": [
              "Region                3\n",
              "Fresh               433\n",
              "Milk                421\n",
              "Grocery             430\n",
              "Frozen              426\n",
              "Detergents_Paper    417\n",
              "Delicassen          403\n",
              "class                 3\n",
              "dtype: int64"
            ]
          },
          "metadata": {},
          "execution_count": 8
        }
      ]
    },
    {
      "cell_type": "markdown",
      "source": [
        "Region and class column has only 3 unique value. So, we can easily convert them to one hot coding"
      ],
      "metadata": {
        "id": "c4fxUX5KNfUg"
      }
    },
    {
      "cell_type": "markdown",
      "source": [
        "Converting `Region`and `Class`, a categorical data into `one hot coding` matrix"
      ],
      "metadata": {
        "id": "SR1RNs6lOXTe"
      }
    },
    {
      "cell_type": "code",
      "source": [
        "Y = df[\"class\"]\n",
        "df = pd.get_dummies(df, columns=[\"Region\", \"class\"])\n",
        "df.head()"
      ],
      "metadata": {
        "colab": {
          "base_uri": "https://localhost:8080/",
          "height": 206
        },
        "id": "_IoN2jKkNvfU",
        "outputId": "235a4a80-2209-4cc0-c039-182a4cd276ad"
      },
      "execution_count": 9,
      "outputs": [
        {
          "output_type": "execute_result",
          "data": {
            "text/plain": [
              "   Fresh  Milk  Grocery  Frozen  Detergents_Paper  Delicassen  Region_1  \\\n",
              "0  12669  9656     7561     214              2674        1338         0   \n",
              "1   7057  9810     9568    1762              3293        1776         0   \n",
              "2   6353  8808     7684    2405              3516        7844         0   \n",
              "3  13265  1196     4221    6404               507        1788         0   \n",
              "4  22615  5410     7198    3915              1777        5185         0   \n",
              "\n",
              "   Region_2  Region_3  class_1  class_2  class_3  \n",
              "0         0         1        0        1        0  \n",
              "1         0         1        0        1        0  \n",
              "2         0         1        0        1        0  \n",
              "3         0         1        1        0        0  \n",
              "4         0         1        1        0        0  "
            ],
            "text/html": [
              "\n",
              "\n",
              "  <div id=\"df-e8f473f6-7ec3-45fa-99b6-0b9b4ce69a60\">\n",
              "    <div class=\"colab-df-container\">\n",
              "      <div>\n",
              "<style scoped>\n",
              "    .dataframe tbody tr th:only-of-type {\n",
              "        vertical-align: middle;\n",
              "    }\n",
              "\n",
              "    .dataframe tbody tr th {\n",
              "        vertical-align: top;\n",
              "    }\n",
              "\n",
              "    .dataframe thead th {\n",
              "        text-align: right;\n",
              "    }\n",
              "</style>\n",
              "<table border=\"1\" class=\"dataframe\">\n",
              "  <thead>\n",
              "    <tr style=\"text-align: right;\">\n",
              "      <th></th>\n",
              "      <th>Fresh</th>\n",
              "      <th>Milk</th>\n",
              "      <th>Grocery</th>\n",
              "      <th>Frozen</th>\n",
              "      <th>Detergents_Paper</th>\n",
              "      <th>Delicassen</th>\n",
              "      <th>Region_1</th>\n",
              "      <th>Region_2</th>\n",
              "      <th>Region_3</th>\n",
              "      <th>class_1</th>\n",
              "      <th>class_2</th>\n",
              "      <th>class_3</th>\n",
              "    </tr>\n",
              "  </thead>\n",
              "  <tbody>\n",
              "    <tr>\n",
              "      <th>0</th>\n",
              "      <td>12669</td>\n",
              "      <td>9656</td>\n",
              "      <td>7561</td>\n",
              "      <td>214</td>\n",
              "      <td>2674</td>\n",
              "      <td>1338</td>\n",
              "      <td>0</td>\n",
              "      <td>0</td>\n",
              "      <td>1</td>\n",
              "      <td>0</td>\n",
              "      <td>1</td>\n",
              "      <td>0</td>\n",
              "    </tr>\n",
              "    <tr>\n",
              "      <th>1</th>\n",
              "      <td>7057</td>\n",
              "      <td>9810</td>\n",
              "      <td>9568</td>\n",
              "      <td>1762</td>\n",
              "      <td>3293</td>\n",
              "      <td>1776</td>\n",
              "      <td>0</td>\n",
              "      <td>0</td>\n",
              "      <td>1</td>\n",
              "      <td>0</td>\n",
              "      <td>1</td>\n",
              "      <td>0</td>\n",
              "    </tr>\n",
              "    <tr>\n",
              "      <th>2</th>\n",
              "      <td>6353</td>\n",
              "      <td>8808</td>\n",
              "      <td>7684</td>\n",
              "      <td>2405</td>\n",
              "      <td>3516</td>\n",
              "      <td>7844</td>\n",
              "      <td>0</td>\n",
              "      <td>0</td>\n",
              "      <td>1</td>\n",
              "      <td>0</td>\n",
              "      <td>1</td>\n",
              "      <td>0</td>\n",
              "    </tr>\n",
              "    <tr>\n",
              "      <th>3</th>\n",
              "      <td>13265</td>\n",
              "      <td>1196</td>\n",
              "      <td>4221</td>\n",
              "      <td>6404</td>\n",
              "      <td>507</td>\n",
              "      <td>1788</td>\n",
              "      <td>0</td>\n",
              "      <td>0</td>\n",
              "      <td>1</td>\n",
              "      <td>1</td>\n",
              "      <td>0</td>\n",
              "      <td>0</td>\n",
              "    </tr>\n",
              "    <tr>\n",
              "      <th>4</th>\n",
              "      <td>22615</td>\n",
              "      <td>5410</td>\n",
              "      <td>7198</td>\n",
              "      <td>3915</td>\n",
              "      <td>1777</td>\n",
              "      <td>5185</td>\n",
              "      <td>0</td>\n",
              "      <td>0</td>\n",
              "      <td>1</td>\n",
              "      <td>1</td>\n",
              "      <td>0</td>\n",
              "      <td>0</td>\n",
              "    </tr>\n",
              "  </tbody>\n",
              "</table>\n",
              "</div>\n",
              "      <button class=\"colab-df-convert\" onclick=\"convertToInteractive('df-e8f473f6-7ec3-45fa-99b6-0b9b4ce69a60')\"\n",
              "              title=\"Convert this dataframe to an interactive table.\"\n",
              "              style=\"display:none;\">\n",
              "\n",
              "  <svg xmlns=\"http://www.w3.org/2000/svg\" height=\"24px\"viewBox=\"0 0 24 24\"\n",
              "       width=\"24px\">\n",
              "    <path d=\"M0 0h24v24H0V0z\" fill=\"none\"/>\n",
              "    <path d=\"M18.56 5.44l.94 2.06.94-2.06 2.06-.94-2.06-.94-.94-2.06-.94 2.06-2.06.94zm-11 1L8.5 8.5l.94-2.06 2.06-.94-2.06-.94L8.5 2.5l-.94 2.06-2.06.94zm10 10l.94 2.06.94-2.06 2.06-.94-2.06-.94-.94-2.06-.94 2.06-2.06.94z\"/><path d=\"M17.41 7.96l-1.37-1.37c-.4-.4-.92-.59-1.43-.59-.52 0-1.04.2-1.43.59L10.3 9.45l-7.72 7.72c-.78.78-.78 2.05 0 2.83L4 21.41c.39.39.9.59 1.41.59.51 0 1.02-.2 1.41-.59l7.78-7.78 2.81-2.81c.8-.78.8-2.07 0-2.86zM5.41 20L4 18.59l7.72-7.72 1.47 1.35L5.41 20z\"/>\n",
              "  </svg>\n",
              "      </button>\n",
              "\n",
              "\n",
              "\n",
              "    <div id=\"df-d4b96357-8122-45c6-94c5-6f40708871f7\">\n",
              "      <button class=\"colab-df-quickchart\" onclick=\"quickchart('df-d4b96357-8122-45c6-94c5-6f40708871f7')\"\n",
              "              title=\"Suggest charts.\"\n",
              "              style=\"display:none;\">\n",
              "\n",
              "<svg xmlns=\"http://www.w3.org/2000/svg\" height=\"24px\"viewBox=\"0 0 24 24\"\n",
              "     width=\"24px\">\n",
              "    <g>\n",
              "        <path d=\"M19 3H5c-1.1 0-2 .9-2 2v14c0 1.1.9 2 2 2h14c1.1 0 2-.9 2-2V5c0-1.1-.9-2-2-2zM9 17H7v-7h2v7zm4 0h-2V7h2v10zm4 0h-2v-4h2v4z\"/>\n",
              "    </g>\n",
              "</svg>\n",
              "      </button>\n",
              "    </div>\n",
              "\n",
              "<style>\n",
              "  .colab-df-quickchart {\n",
              "    background-color: #E8F0FE;\n",
              "    border: none;\n",
              "    border-radius: 50%;\n",
              "    cursor: pointer;\n",
              "    display: none;\n",
              "    fill: #1967D2;\n",
              "    height: 32px;\n",
              "    padding: 0 0 0 0;\n",
              "    width: 32px;\n",
              "  }\n",
              "\n",
              "  .colab-df-quickchart:hover {\n",
              "    background-color: #E2EBFA;\n",
              "    box-shadow: 0px 1px 2px rgba(60, 64, 67, 0.3), 0px 1px 3px 1px rgba(60, 64, 67, 0.15);\n",
              "    fill: #174EA6;\n",
              "  }\n",
              "\n",
              "  [theme=dark] .colab-df-quickchart {\n",
              "    background-color: #3B4455;\n",
              "    fill: #D2E3FC;\n",
              "  }\n",
              "\n",
              "  [theme=dark] .colab-df-quickchart:hover {\n",
              "    background-color: #434B5C;\n",
              "    box-shadow: 0px 1px 3px 1px rgba(0, 0, 0, 0.15);\n",
              "    filter: drop-shadow(0px 1px 2px rgba(0, 0, 0, 0.3));\n",
              "    fill: #FFFFFF;\n",
              "  }\n",
              "</style>\n",
              "\n",
              "    <script>\n",
              "      async function quickchart(key) {\n",
              "        const containerElement = document.querySelector('#' + key);\n",
              "        const charts = await google.colab.kernel.invokeFunction(\n",
              "            'suggestCharts', [key], {});\n",
              "      }\n",
              "    </script>\n",
              "\n",
              "      <script>\n",
              "\n",
              "function displayQuickchartButton(domScope) {\n",
              "  let quickchartButtonEl =\n",
              "    domScope.querySelector('#df-d4b96357-8122-45c6-94c5-6f40708871f7 button.colab-df-quickchart');\n",
              "  quickchartButtonEl.style.display =\n",
              "    google.colab.kernel.accessAllowed ? 'block' : 'none';\n",
              "}\n",
              "\n",
              "        displayQuickchartButton(document);\n",
              "      </script>\n",
              "      <style>\n",
              "    .colab-df-container {\n",
              "      display:flex;\n",
              "      flex-wrap:wrap;\n",
              "      gap: 12px;\n",
              "    }\n",
              "\n",
              "    .colab-df-convert {\n",
              "      background-color: #E8F0FE;\n",
              "      border: none;\n",
              "      border-radius: 50%;\n",
              "      cursor: pointer;\n",
              "      display: none;\n",
              "      fill: #1967D2;\n",
              "      height: 32px;\n",
              "      padding: 0 0 0 0;\n",
              "      width: 32px;\n",
              "    }\n",
              "\n",
              "    .colab-df-convert:hover {\n",
              "      background-color: #E2EBFA;\n",
              "      box-shadow: 0px 1px 2px rgba(60, 64, 67, 0.3), 0px 1px 3px 1px rgba(60, 64, 67, 0.15);\n",
              "      fill: #174EA6;\n",
              "    }\n",
              "\n",
              "    [theme=dark] .colab-df-convert {\n",
              "      background-color: #3B4455;\n",
              "      fill: #D2E3FC;\n",
              "    }\n",
              "\n",
              "    [theme=dark] .colab-df-convert:hover {\n",
              "      background-color: #434B5C;\n",
              "      box-shadow: 0px 1px 3px 1px rgba(0, 0, 0, 0.15);\n",
              "      filter: drop-shadow(0px 1px 2px rgba(0, 0, 0, 0.3));\n",
              "      fill: #FFFFFF;\n",
              "    }\n",
              "  </style>\n",
              "\n",
              "      <script>\n",
              "        const buttonEl =\n",
              "          document.querySelector('#df-e8f473f6-7ec3-45fa-99b6-0b9b4ce69a60 button.colab-df-convert');\n",
              "        buttonEl.style.display =\n",
              "          google.colab.kernel.accessAllowed ? 'block' : 'none';\n",
              "\n",
              "        async function convertToInteractive(key) {\n",
              "          const element = document.querySelector('#df-e8f473f6-7ec3-45fa-99b6-0b9b4ce69a60');\n",
              "          const dataTable =\n",
              "            await google.colab.kernel.invokeFunction('convertToInteractive',\n",
              "                                                     [key], {});\n",
              "          if (!dataTable) return;\n",
              "\n",
              "          const docLinkHtml = 'Like what you see? Visit the ' +\n",
              "            '<a target=\"_blank\" href=https://colab.research.google.com/notebooks/data_table.ipynb>data table notebook</a>'\n",
              "            + ' to learn more about interactive tables.';\n",
              "          element.innerHTML = '';\n",
              "          dataTable['output_type'] = 'display_data';\n",
              "          await google.colab.output.renderOutput(dataTable, element);\n",
              "          const docLink = document.createElement('div');\n",
              "          docLink.innerHTML = docLinkHtml;\n",
              "          element.appendChild(docLink);\n",
              "        }\n",
              "      </script>\n",
              "    </div>\n",
              "  </div>\n"
            ]
          },
          "metadata": {},
          "execution_count": 9
        }
      ]
    },
    {
      "cell_type": "code",
      "source": [
        "x = df.drop(columns=[\"class_1\", \"class_2\", \"class_3\"])\n",
        "y = df[[\"class_1\", \"class_2\", \"class_3\"]]"
      ],
      "metadata": {
        "id": "Y0EbBeMFP3GV"
      },
      "execution_count": 10,
      "outputs": []
    },
    {
      "cell_type": "markdown",
      "source": [
        "##Visualizing data using PCA"
      ],
      "metadata": {
        "id": "LUmZE1hJSFub"
      }
    },
    {
      "cell_type": "code",
      "source": [
        "from sklearn.decomposition import PCA\n",
        "pca = PCA(n_components=2)"
      ],
      "metadata": {
        "id": "M8NI_heTUTtG"
      },
      "execution_count": 11,
      "outputs": []
    },
    {
      "cell_type": "code",
      "source": [
        "v1 = pca.fit_transform(x)\n",
        "v1.shape"
      ],
      "metadata": {
        "colab": {
          "base_uri": "https://localhost:8080/"
        },
        "id": "Vdky_ZqSWrFn",
        "outputId": "ea6cb320-2339-481e-b7dd-a15a82b28245"
      },
      "execution_count": 12,
      "outputs": [
        {
          "output_type": "execute_result",
          "data": {
            "text/plain": [
              "(440, 2)"
            ]
          },
          "metadata": {},
          "execution_count": 12
        }
      ]
    },
    {
      "cell_type": "code",
      "source": [
        "df2 = pd.DataFrame(v1, columns=[\"f1\", \"f2\"])\n",
        "df2['y'] = Y\n",
        "print(pca.explained_variance_ratio_)\n",
        "sns.scatterplot(data=df2, x='f1', y='f2', hue='y')\n",
        "plt.show()"
      ],
      "metadata": {
        "colab": {
          "base_uri": "https://localhost:8080/",
          "height": 467
        },
        "id": "Sf71dJ0OW5tN",
        "outputId": "b9a461ac-48a7-41ef-c759-6815ce9d4889"
      },
      "execution_count": 13,
      "outputs": [
        {
          "output_type": "stream",
          "name": "stdout",
          "text": [
            "[0.45961362 0.40517227]\n"
          ]
        },
        {
          "output_type": "display_data",
          "data": {
            "text/plain": [
              "<Figure size 640x480 with 1 Axes>"
            ],
            "image/png": "[encoded data removed]"
          },
          "metadata": {}
        }
      ]
    },
    {
      "cell_type": "markdown",
      "source": [
        "**Observation** :\n",
        "Data is non-linear, hence to correctly classify the data we will require a deep neural network"
      ],
      "metadata": {
        "id": "HStfH3ktYFRo"
      }
    },
    {
      "cell_type": "code",
      "source": [
        "#Split train, test, val data\n",
        "from sklearn.model_selection import train_test_split\n",
        "X_train, X_test, y_train, y_test = train_test_split(x, y, test_size=0.1, random_state=42)\n",
        "X_train, X_val, y_train, y_val = train_test_split(X_train, y_train, test_size=0.1, random_state=42)\n",
        "print(\"Train : \", X_train.shape, y_train.shape)\n",
        "print(\"Test : \", X_test.shape, y_test.shape)\n",
        "print(\"Validation : \", X_val.shape, y_val.shape)"
      ],
      "metadata": {
        "id": "vrU5MMiXXb_1",
        "colab": {
          "base_uri": "https://localhost:8080/"
        },
        "outputId": "569c0191-8018-45b7-8fc8-96221c159d60"
      },
      "execution_count": 16,
      "outputs": [
        {
          "output_type": "stream",
          "name": "stdout",
          "text": [
            "Train :  (356, 9) (356, 3)\n",
            "Test :  (44, 9) (44, 3)\n",
            "Validation :  (40, 9) (40, 3)\n"
          ]
        }
      ]
    },
    {
      "cell_type": "code",
      "source": [
        "#Standardize the data\n",
        "from sklearn.preprocessing import StandardScaler\n",
        "scaler = StandardScaler()\n",
        "X_train = scaler.fit_transform(X_train)\n",
        "X_test = scaler.transform(X_test)\n",
        "X_val = scaler.transform(X_val)"
      ],
      "metadata": {
        "id": "fAPHbGPeaCPI"
      },
      "execution_count": 17,
      "outputs": []
    },
    {
      "cell_type": "markdown",
      "source": [
        "Let's create a NN model using [tensorflow keras](https://keras.io/api/) of 7 layers such that\n",
        "\n",
        "|Layer| |Description|\n",
        "|:-| |:-|\n",
        "|**L1**| |Is the Input Layer |\n",
        "|**L2**| |Contains 32 Neurons|\n",
        "|**L3**| |Contains 64 Neurons|\n",
        "|**L4**| |Contains 128 Neurons|\n",
        "|**L5**| |Contains 64 Neurons |\n",
        "|**L6**| |Contains 32 Neurons|\n",
        "|**L7**| |Is the Output Layer |\n",
        "<br><br>\n",
        "\n",
        "We will use reLU as activation function between layers"
      ],
      "metadata": {
        "id": "IM36bBF9PDH_"
      }
    },
    {
      "cell_type": "code",
      "source": [
        "import tensorflow as tf\n",
        "from tensorflow.keras import Sequential\n",
        "from tensorflow.keras.layers import Dense\n",
        "\n",
        "np.random.seed(42)\n",
        "tf.random.set_seed(42)"
      ],
      "metadata": {
        "id": "lUitRYFdMsnZ"
      },
      "execution_count": 21,
      "outputs": []
    },
    {
      "cell_type": "code",
      "source": [
        "def create_baseline():\n",
        "  model = Sequential([\n",
        "      Dense(32, activation='relu', kernel_initializer='glorot_uniform'),\n",
        "      Dense(64, activation='relu', kernel_initializer='glorot_uniform'),\n",
        "      Dense(128, activation='relu', kernel_initializer='glorot_uniform'),\n",
        "      Dense(64, activation='relu', kernel_initializer='glorot_uniform'),\n",
        "      Dense(32, activation='relu', kernel_initializer='glorot_uniform'),\n",
        "      Dense(3, activation='softmax')\n",
        "  ])\n",
        "  return model"
      ],
      "metadata": {
        "id": "f_r5KbG4Qdfy"
      },
      "execution_count": 38,
      "outputs": []
    },
    {
      "cell_type": "code",
      "source": [
        "model = create_baseline()"
      ],
      "metadata": {
        "id": "wFBJ4HPZRuM2"
      },
      "execution_count": 39,
      "outputs": []
    },
    {
      "cell_type": "markdown",
      "source": [
        "Using MiniBatch GD as Optimizer"
      ],
      "metadata": {
        "id": "RSkPvyIaSduo"
      }
    },
    {
      "cell_type": "code",
      "source": [
        "model.compile(optimizer=tf.keras.optimizers.SGD(), loss=tf.keras.losses.CategoricalCrossentropy())"
      ],
      "metadata": {
        "id": "aBUNXl4uR9_z"
      },
      "execution_count": 40,
      "outputs": []
    },
    {
      "cell_type": "markdown",
      "source": [
        "Training the model with `batch_size` of 128 and `epoch` of 10"
      ],
      "metadata": {
        "id": "4T0sdR3nU__r"
      }
    },
    {
      "cell_type": "code",
      "source": [
        "history = model.fit(X_train, y_train, validation_data=(X_val, y_val), epochs=10, batch_size=128)"
      ],
      "metadata": {
        "colab": {
          "base_uri": "https://localhost:8080/"
        },
        "id": "9IbYb8cmS051",
        "outputId": "da81dcb6-0bd0-4176-ccad-c36377e19a6f"
      },
      "execution_count": 41,
      "outputs": [
        {
          "output_type": "stream",
          "name": "stdout",
          "text": [
            "Epoch 1/10\n",
            "3/3 [==============================] - 2s 139ms/step - loss: 1.0847 - val_loss: 1.0810\n",
            "Epoch 2/10\n",
            "3/3 [==============================] - 0s 20ms/step - loss: 1.0795 - val_loss: 1.0757\n",
            "Epoch 3/10\n",
            "3/3 [==============================] - 0s 20ms/step - loss: 1.0743 - val_loss: 1.0702\n",
            "Epoch 4/10\n",
            "3/3 [==============================] - 0s 21ms/step - loss: 1.0692 - val_loss: 1.0648\n",
            "Epoch 5/10\n",
            "3/3 [==============================] - 0s 19ms/step - loss: 1.0643 - val_loss: 1.0596\n",
            "Epoch 6/10\n",
            "3/3 [==============================] - 0s 21ms/step - loss: 1.0595 - val_loss: 1.0546\n",
            "Epoch 7/10\n",
            "3/3 [==============================] - 0s 20ms/step - loss: 1.0549 - val_loss: 1.0495\n",
            "Epoch 8/10\n",
            "3/3 [==============================] - 0s 28ms/step - loss: 1.0505 - val_loss: 1.0446\n",
            "Epoch 9/10\n",
            "3/3 [==============================] - 0s 20ms/step - loss: 1.0461 - val_loss: 1.0398\n",
            "Epoch 10/10\n",
            "3/3 [==============================] - 0s 20ms/step - loss: 1.0418 - val_loss: 1.0349\n"
          ]
        }
      ]
    },
    {
      "cell_type": "code",
      "source": [
        "epochs = history.epoch\n",
        "loss = history.history['loss']\n",
        "val_loss = history.history['val_loss']\n",
        "\n",
        "plt.plot(epochs, loss, label=\"train\")\n",
        "plt.plot(epochs, val_loss, label=\"validation\")\n",
        "\n",
        "plt.legend()\n",
        "plt.title(\"Loss vs Epochs\")\n",
        "\n",
        "plt.show()"
      ],
      "metadata": {
        "colab": {
          "base_uri": "https://localhost:8080/",
          "height": 452
        },
        "id": "2T7ni04PWxcs",
        "outputId": "0d4ee3fb-85e0-4c74-c434-e440aed033ba"
      },
      "execution_count": 45,
      "outputs": [
        {
          "output_type": "display_data",
          "data": {
            "text/plain": [
              "<Figure size 640x480 with 1 Axes>"
            ],
            "image/png": "[encoded data removed]"
          },
          "metadata": {}
        }
      ]
    },
    {
      "cell_type": "markdown",
      "source": [
        "After 10 epochs model still has very high loss.<br>\n",
        "Let's increase epochs to 200 for better model perfomance"
      ],
      "metadata": {
        "id": "tbq5R1bpYIJ_"
      }
    },
    {
      "cell_type": "code",
      "source": [
        "history = model.fit(X_train, y_train, validation_data=(X_val, y_val), epochs=200, batch_size=128)"
      ],
      "metadata": {
        "colab": {
          "base_uri": "https://localhost:8080/"
        },
        "id": "oGtlyWOsWZ-W",
        "outputId": "8ac25506-b95b-48c9-80fb-691122ef77c4"
      },
      "execution_count": 47,
      "outputs": [
        {
          "output_type": "stream",
          "name": "stdout",
          "text": [
            "Epoch 1/200\n",
            "3/3 [==============================] - 0s 46ms/step - loss: 1.0376 - val_loss: 1.0301\n",
            "Epoch 2/200\n",
            "3/3 [==============================] - 0s 32ms/step - loss: 1.0335 - val_loss: 1.0256\n",
            "Epoch 3/200\n",
            "3/3 [==============================] - 0s 37ms/step - loss: 1.0294 - val_loss: 1.0210\n",
            "Epoch 4/200\n",
            "3/3 [==============================] - 0s 53ms/step - loss: 1.0252 - val_loss: 1.0164\n",
            "Epoch 5/200\n",
            "3/3 [==============================] - 0s 46ms/step - loss: 1.0212 - val_loss: 1.0119\n",
            "Epoch 6/200\n",
            "3/3 [==============================] - 0s 37ms/step - loss: 1.0171 - val_loss: 1.0075\n",
            "Epoch 7/200\n",
            "3/3 [==============================] - 0s 46ms/step - loss: 1.0131 - val_loss: 1.0029\n",
            "Epoch 8/200\n",
            "3/3 [==============================] - 0s 106ms/step - loss: 1.0090 - val_loss: 0.9983\n",
            "Epoch 9/200\n",
            "3/3 [==============================] - 0s 74ms/step - loss: 1.0049 - val_loss: 0.9936\n",
            "Epoch 10/200\n",
            "3/3 [==============================] - 0s 76ms/step - loss: 1.0008 - val_loss: 0.9888\n",
            "Epoch 11/200\n",
            "3/3 [==============================] - 0s 72ms/step - loss: 0.9967 - val_loss: 0.9841\n",
            "Epoch 12/200\n",
            "3/3 [==============================] - 0s 57ms/step - loss: 0.9926 - val_loss: 0.9795\n",
            "Epoch 13/200\n",
            "3/3 [==============================] - 0s 61ms/step - loss: 0.9885 - val_loss: 0.9749\n",
            "Epoch 14/200\n",
            "3/3 [==============================] - 0s 63ms/step - loss: 0.9843 - val_loss: 0.9701\n",
            "Epoch 15/200\n",
            "3/3 [==============================] - 0s 65ms/step - loss: 0.9803 - val_loss: 0.9655\n",
            "Epoch 16/200\n",
            "3/3 [==============================] - 0s 69ms/step - loss: 0.9760 - val_loss: 0.9608\n",
            "Epoch 17/200\n",
            "3/3 [==============================] - 0s 87ms/step - loss: 0.9718 - val_loss: 0.9562\n",
            "Epoch 18/200\n",
            "3/3 [==============================] - 0s 78ms/step - loss: 0.9675 - val_loss: 0.9514\n",
            "Epoch 19/200\n",
            "3/3 [==============================] - 0s 59ms/step - loss: 0.9632 - val_loss: 0.9467\n",
            "Epoch 20/200\n",
            "3/3 [==============================] - 0s 59ms/step - loss: 0.9590 - val_loss: 0.9420\n",
            "Epoch 21/200\n",
            "3/3 [==============================] - 0s 60ms/step - loss: 0.9548 - val_loss: 0.9372\n",
            "Epoch 22/200\n",
            "3/3 [==============================] - 0s 57ms/step - loss: 0.9502 - val_loss: 0.9324\n",
            "Epoch 23/200\n",
            "3/3 [==============================] - 0s 44ms/step - loss: 0.9458 - val_loss: 0.9275\n",
            "Epoch 24/200\n",
            "3/3 [==============================] - 0s 40ms/step - loss: 0.9414 - val_loss: 0.9227\n",
            "Epoch 25/200\n",
            "3/3 [==============================] - 0s 40ms/step - loss: 0.9369 - val_loss: 0.9177\n",
            "Epoch 26/200\n",
            "3/3 [==============================] - 0s 77ms/step - loss: 0.9325 - val_loss: 0.9127\n",
            "Epoch 27/200\n",
            "3/3 [==============================] - 0s 79ms/step - loss: 0.9276 - val_loss: 0.9076\n",
            "Epoch 28/200\n",
            "3/3 [==============================] - 0s 65ms/step - loss: 0.9229 - val_loss: 0.9026\n",
            "Epoch 29/200\n",
            "3/3 [==============================] - 0s 44ms/step - loss: 0.9182 - val_loss: 0.8974\n",
            "Epoch 30/200\n",
            "3/3 [==============================] - 0s 42ms/step - loss: 0.9136 - val_loss: 0.8924\n",
            "Epoch 31/200\n",
            "3/3 [==============================] - 0s 38ms/step - loss: 0.9088 - val_loss: 0.8870\n",
            "Epoch 32/200\n",
            "3/3 [==============================] - 0s 38ms/step - loss: 0.9040 - val_loss: 0.8820\n",
            "Epoch 33/200\n",
            "3/3 [==============================] - 0s 41ms/step - loss: 0.8991 - val_loss: 0.8766\n",
            "Epoch 34/200\n",
            "3/3 [==============================] - 0s 36ms/step - loss: 0.8941 - val_loss: 0.8713\n",
            "Epoch 35/200\n",
            "3/3 [==============================] - 0s 34ms/step - loss: 0.8892 - val_loss: 0.8660\n",
            "Epoch 36/200\n",
            "3/3 [==============================] - 0s 24ms/step - loss: 0.8842 - val_loss: 0.8608\n",
            "Epoch 37/200\n",
            "3/3 [==============================] - 0s 21ms/step - loss: 0.8792 - val_loss: 0.8554\n",
            "Epoch 38/200\n",
            "3/3 [==============================] - 0s 20ms/step - loss: 0.8742 - val_loss: 0.8500\n",
            "Epoch 39/200\n",
            "3/3 [==============================] - 0s 41ms/step - loss: 0.8694 - val_loss: 0.8448\n",
            "Epoch 40/200\n",
            "3/3 [==============================] - 0s 39ms/step - loss: 0.8638 - val_loss: 0.8393\n",
            "Epoch 41/200\n",
            "3/3 [==============================] - 0s 37ms/step - loss: 0.8586 - val_loss: 0.8337\n",
            "Epoch 42/200\n",
            "3/3 [==============================] - 0s 40ms/step - loss: 0.8533 - val_loss: 0.8280\n",
            "Epoch 43/200\n",
            "3/3 [==============================] - 0s 42ms/step - loss: 0.8478 - val_loss: 0.8224\n",
            "Epoch 44/200\n",
            "3/3 [==============================] - 0s 19ms/step - loss: 0.8424 - val_loss: 0.8165\n",
            "Epoch 45/200\n",
            "3/3 [==============================] - 0s 19ms/step - loss: 0.8371 - val_loss: 0.8110\n",
            "Epoch 46/200\n",
            "3/3 [==============================] - 0s 20ms/step - loss: 0.8317 - val_loss: 0.8051\n",
            "Epoch 47/200\n",
            "3/3 [==============================] - 0s 20ms/step - loss: 0.8263 - val_loss: 0.7993\n",
            "Epoch 48/200\n",
            "3/3 [==============================] - 0s 40ms/step - loss: 0.8210 - val_loss: 0.7934\n",
            "Epoch 49/200\n",
            "3/3 [==============================] - 0s 44ms/step - loss: 0.8152 - val_loss: 0.7874\n",
            "Epoch 50/200\n",
            "3/3 [==============================] - 0s 38ms/step - loss: 0.8097 - val_loss: 0.7815\n",
            "Epoch 51/200\n",
            "3/3 [==============================] - 0s 41ms/step - loss: 0.8044 - val_loss: 0.7758\n",
            "Epoch 52/200\n",
            "3/3 [==============================] - 0s 41ms/step - loss: 0.7985 - val_loss: 0.7699\n",
            "Epoch 53/200\n",
            "3/3 [==============================] - 0s 39ms/step - loss: 0.7929 - val_loss: 0.7642\n",
            "Epoch 54/200\n",
            "3/3 [==============================] - 0s 86ms/step - loss: 0.7870 - val_loss: 0.7583\n",
            "Epoch 55/200\n",
            "3/3 [==============================] - 0s 104ms/step - loss: 0.7814 - val_loss: 0.7524\n",
            "Epoch 56/200\n",
            "3/3 [==============================] - 0s 83ms/step - loss: 0.7758 - val_loss: 0.7464\n",
            "Epoch 57/200\n",
            "3/3 [==============================] - 0s 61ms/step - loss: 0.7699 - val_loss: 0.7405\n",
            "Epoch 58/200\n",
            "3/3 [==============================] - 0s 53ms/step - loss: 0.7643 - val_loss: 0.7344\n",
            "Epoch 59/200\n",
            "3/3 [==============================] - 0s 95ms/step - loss: 0.7587 - val_loss: 0.7284\n",
            "Epoch 60/200\n",
            "3/3 [==============================] - 0s 68ms/step - loss: 0.7530 - val_loss: 0.7225\n",
            "Epoch 61/200\n",
            "3/3 [==============================] - 0s 31ms/step - loss: 0.7469 - val_loss: 0.7166\n",
            "Epoch 62/200\n",
            "3/3 [==============================] - 0s 58ms/step - loss: 0.7413 - val_loss: 0.7106\n",
            "Epoch 63/200\n",
            "3/3 [==============================] - 0s 41ms/step - loss: 0.7355 - val_loss: 0.7046\n",
            "Epoch 64/200\n",
            "3/3 [==============================] - 0s 41ms/step - loss: 0.7298 - val_loss: 0.6987\n",
            "Epoch 65/200\n",
            "3/3 [==============================] - 0s 44ms/step - loss: 0.7238 - val_loss: 0.6928\n",
            "Epoch 66/200\n",
            "3/3 [==============================] - 0s 38ms/step - loss: 0.7185 - val_loss: 0.6870\n",
            "Epoch 67/200\n",
            "3/3 [==============================] - 0s 37ms/step - loss: 0.7124 - val_loss: 0.6814\n",
            "Epoch 68/200\n",
            "3/3 [==============================] - 0s 41ms/step - loss: 0.7069 - val_loss: 0.6756\n",
            "Epoch 69/200\n",
            "3/3 [==============================] - 0s 49ms/step - loss: 0.7008 - val_loss: 0.6699\n",
            "Epoch 70/200\n",
            "3/3 [==============================] - 0s 48ms/step - loss: 0.6950 - val_loss: 0.6642\n",
            "Epoch 71/200\n",
            "3/3 [==============================] - 0s 41ms/step - loss: 0.6896 - val_loss: 0.6584\n",
            "Epoch 72/200\n",
            "3/3 [==============================] - 0s 43ms/step - loss: 0.6836 - val_loss: 0.6527\n",
            "Epoch 73/200\n",
            "3/3 [==============================] - 0s 52ms/step - loss: 0.6780 - val_loss: 0.6472\n",
            "Epoch 74/200\n",
            "3/3 [==============================] - 0s 54ms/step - loss: 0.6724 - val_loss: 0.6416\n",
            "Epoch 75/200\n",
            "3/3 [==============================] - 0s 33ms/step - loss: 0.6668 - val_loss: 0.6363\n",
            "Epoch 76/200\n",
            "3/3 [==============================] - 0s 40ms/step - loss: 0.6617 - val_loss: 0.6308\n",
            "Epoch 77/200\n",
            "3/3 [==============================] - 0s 42ms/step - loss: 0.6559 - val_loss: 0.6256\n",
            "Epoch 78/200\n",
            "3/3 [==============================] - 0s 39ms/step - loss: 0.6505 - val_loss: 0.6202\n",
            "Epoch 79/200\n",
            "3/3 [==============================] - 0s 38ms/step - loss: 0.6451 - val_loss: 0.6149\n",
            "Epoch 80/200\n",
            "3/3 [==============================] - 0s 38ms/step - loss: 0.6396 - val_loss: 0.6100\n",
            "Epoch 81/200\n",
            "3/3 [==============================] - 0s 38ms/step - loss: 0.6347 - val_loss: 0.6052\n",
            "Epoch 82/200\n",
            "3/3 [==============================] - 0s 48ms/step - loss: 0.6292 - val_loss: 0.6004\n",
            "Epoch 83/200\n",
            "3/3 [==============================] - 0s 41ms/step - loss: 0.6240 - val_loss: 0.5958\n",
            "Epoch 84/200\n",
            "3/3 [==============================] - 0s 49ms/step - loss: 0.6188 - val_loss: 0.5911\n",
            "Epoch 85/200\n",
            "3/3 [==============================] - 0s 40ms/step - loss: 0.6137 - val_loss: 0.5861\n",
            "Epoch 86/200\n",
            "3/3 [==============================] - 0s 34ms/step - loss: 0.6091 - val_loss: 0.5817\n",
            "Epoch 87/200\n",
            "3/3 [==============================] - 0s 22ms/step - loss: 0.6038 - val_loss: 0.5770\n",
            "Epoch 88/200\n",
            "3/3 [==============================] - 0s 21ms/step - loss: 0.5986 - val_loss: 0.5725\n",
            "Epoch 89/200\n",
            "3/3 [==============================] - 0s 23ms/step - loss: 0.5938 - val_loss: 0.5682\n",
            "Epoch 90/200\n",
            "3/3 [==============================] - 0s 32ms/step - loss: 0.5892 - val_loss: 0.5638\n",
            "Epoch 91/200\n",
            "3/3 [==============================] - 0s 40ms/step - loss: 0.5843 - val_loss: 0.5595\n",
            "Epoch 92/200\n",
            "3/3 [==============================] - 0s 38ms/step - loss: 0.5801 - val_loss: 0.5555\n",
            "Epoch 93/200\n",
            "3/3 [==============================] - 0s 30ms/step - loss: 0.5747 - val_loss: 0.5513\n",
            "Epoch 94/200\n",
            "3/3 [==============================] - 0s 48ms/step - loss: 0.5705 - val_loss: 0.5475\n",
            "Epoch 95/200\n",
            "3/3 [==============================] - 0s 34ms/step - loss: 0.5656 - val_loss: 0.5435\n",
            "Epoch 96/200\n",
            "3/3 [==============================] - 0s 38ms/step - loss: 0.5613 - val_loss: 0.5395\n",
            "Epoch 97/200\n",
            "3/3 [==============================] - 0s 30ms/step - loss: 0.5571 - val_loss: 0.5360\n",
            "Epoch 98/200\n",
            "3/3 [==============================] - 0s 28ms/step - loss: 0.5528 - val_loss: 0.5320\n",
            "Epoch 99/200\n",
            "3/3 [==============================] - 0s 40ms/step - loss: 0.5484 - val_loss: 0.5280\n",
            "Epoch 100/200\n",
            "3/3 [==============================] - 0s 44ms/step - loss: 0.5441 - val_loss: 0.5243\n",
            "Epoch 101/200\n",
            "3/3 [==============================] - 0s 29ms/step - loss: 0.5399 - val_loss: 0.5211\n",
            "Epoch 102/200\n",
            "3/3 [==============================] - 0s 26ms/step - loss: 0.5355 - val_loss: 0.5176\n",
            "Epoch 103/200\n",
            "3/3 [==============================] - 0s 21ms/step - loss: 0.5318 - val_loss: 0.5146\n",
            "Epoch 104/200\n",
            "3/3 [==============================] - 0s 21ms/step - loss: 0.5277 - val_loss: 0.5113\n",
            "Epoch 105/200\n",
            "3/3 [==============================] - 0s 19ms/step - loss: 0.5241 - val_loss: 0.5076\n",
            "Epoch 106/200\n",
            "3/3 [==============================] - 0s 29ms/step - loss: 0.5204 - val_loss: 0.5045\n",
            "Epoch 107/200\n",
            "3/3 [==============================] - 0s 44ms/step - loss: 0.5158 - val_loss: 0.5014\n",
            "Epoch 108/200\n",
            "3/3 [==============================] - 0s 38ms/step - loss: 0.5124 - val_loss: 0.4981\n",
            "Epoch 109/200\n",
            "3/3 [==============================] - 0s 57ms/step - loss: 0.5085 - val_loss: 0.4953\n",
            "Epoch 110/200\n",
            "3/3 [==============================] - 0s 48ms/step - loss: 0.5049 - val_loss: 0.4920\n",
            "Epoch 111/200\n",
            "3/3 [==============================] - 0s 73ms/step - loss: 0.5013 - val_loss: 0.4895\n",
            "Epoch 112/200\n",
            "3/3 [==============================] - 0s 23ms/step - loss: 0.4977 - val_loss: 0.4873\n",
            "Epoch 113/200\n",
            "3/3 [==============================] - 0s 24ms/step - loss: 0.4940 - val_loss: 0.4840\n",
            "Epoch 114/200\n",
            "3/3 [==============================] - 0s 21ms/step - loss: 0.4905 - val_loss: 0.4813\n",
            "Epoch 115/200\n",
            "3/3 [==============================] - 0s 33ms/step - loss: 0.4872 - val_loss: 0.4792\n",
            "Epoch 116/200\n",
            "3/3 [==============================] - 0s 51ms/step - loss: 0.4834 - val_loss: 0.4761\n",
            "Epoch 117/200\n",
            "3/3 [==============================] - 0s 38ms/step - loss: 0.4800 - val_loss: 0.4736\n",
            "Epoch 118/200\n",
            "3/3 [==============================] - 0s 38ms/step - loss: 0.4768 - val_loss: 0.4711\n",
            "Epoch 119/200\n",
            "3/3 [==============================] - 0s 44ms/step - loss: 0.4737 - val_loss: 0.4691\n",
            "Epoch 120/200\n",
            "3/3 [==============================] - 0s 56ms/step - loss: 0.4700 - val_loss: 0.4667\n",
            "Epoch 121/200\n",
            "3/3 [==============================] - 0s 48ms/step - loss: 0.4669 - val_loss: 0.4643\n",
            "Epoch 122/200\n",
            "3/3 [==============================] - 0s 57ms/step - loss: 0.4638 - val_loss: 0.4618\n",
            "Epoch 123/200\n",
            "3/3 [==============================] - 0s 21ms/step - loss: 0.4605 - val_loss: 0.4595\n",
            "Epoch 124/200\n",
            "3/3 [==============================] - 0s 22ms/step - loss: 0.4573 - val_loss: 0.4574\n",
            "Epoch 125/200\n",
            "3/3 [==============================] - 0s 21ms/step - loss: 0.4541 - val_loss: 0.4552\n",
            "Epoch 126/200\n",
            "3/3 [==============================] - 0s 45ms/step - loss: 0.4513 - val_loss: 0.4531\n",
            "Epoch 127/200\n",
            "3/3 [==============================] - 0s 44ms/step - loss: 0.4487 - val_loss: 0.4514\n",
            "Epoch 128/200\n",
            "3/3 [==============================] - 0s 39ms/step - loss: 0.4461 - val_loss: 0.4488\n",
            "Epoch 129/200\n",
            "3/3 [==============================] - 0s 50ms/step - loss: 0.4420 - val_loss: 0.4464\n",
            "Epoch 130/200\n",
            "3/3 [==============================] - 0s 57ms/step - loss: 0.4395 - val_loss: 0.4449\n",
            "Epoch 131/200\n",
            "3/3 [==============================] - 0s 33ms/step - loss: 0.4368 - val_loss: 0.4420\n",
            "Epoch 132/200\n",
            "3/3 [==============================] - 0s 51ms/step - loss: 0.4337 - val_loss: 0.4399\n",
            "Epoch 133/200\n",
            "3/3 [==============================] - 0s 66ms/step - loss: 0.4309 - val_loss: 0.4378\n",
            "Epoch 134/200\n",
            "3/3 [==============================] - 0s 59ms/step - loss: 0.4278 - val_loss: 0.4362\n",
            "Epoch 135/200\n",
            "3/3 [==============================] - 0s 74ms/step - loss: 0.4254 - val_loss: 0.4343\n",
            "Epoch 136/200\n",
            "3/3 [==============================] - 0s 75ms/step - loss: 0.4225 - val_loss: 0.4321\n",
            "Epoch 137/200\n",
            "3/3 [==============================] - 0s 65ms/step - loss: 0.4203 - val_loss: 0.4310\n",
            "Epoch 138/200\n",
            "3/3 [==============================] - 0s 57ms/step - loss: 0.4169 - val_loss: 0.4286\n",
            "Epoch 139/200\n",
            "3/3 [==============================] - 0s 69ms/step - loss: 0.4142 - val_loss: 0.4267\n",
            "Epoch 140/200\n",
            "3/3 [==============================] - 0s 49ms/step - loss: 0.4117 - val_loss: 0.4243\n",
            "Epoch 141/200\n",
            "3/3 [==============================] - 0s 38ms/step - loss: 0.4093 - val_loss: 0.4221\n",
            "Epoch 142/200\n",
            "3/3 [==============================] - 0s 59ms/step - loss: 0.4066 - val_loss: 0.4203\n",
            "Epoch 143/200\n",
            "3/3 [==============================] - 0s 66ms/step - loss: 0.4037 - val_loss: 0.4187\n",
            "Epoch 144/200\n",
            "3/3 [==============================] - 0s 69ms/step - loss: 0.4010 - val_loss: 0.4171\n",
            "Epoch 145/200\n",
            "3/3 [==============================] - 0s 58ms/step - loss: 0.3990 - val_loss: 0.4154\n",
            "Epoch 146/200\n",
            "3/3 [==============================] - 0s 85ms/step - loss: 0.3960 - val_loss: 0.4137\n",
            "Epoch 147/200\n",
            "3/3 [==============================] - 0s 59ms/step - loss: 0.3931 - val_loss: 0.4117\n",
            "Epoch 148/200\n",
            "3/3 [==============================] - 0s 72ms/step - loss: 0.3906 - val_loss: 0.4093\n",
            "Epoch 149/200\n",
            "3/3 [==============================] - 0s 75ms/step - loss: 0.3882 - val_loss: 0.4079\n",
            "Epoch 150/200\n",
            "3/3 [==============================] - 0s 68ms/step - loss: 0.3857 - val_loss: 0.4066\n",
            "Epoch 151/200\n",
            "3/3 [==============================] - 0s 46ms/step - loss: 0.3832 - val_loss: 0.4048\n",
            "Epoch 152/200\n",
            "3/3 [==============================] - 0s 46ms/step - loss: 0.3807 - val_loss: 0.4034\n",
            "Epoch 153/200\n",
            "3/3 [==============================] - 0s 52ms/step - loss: 0.3783 - val_loss: 0.4014\n",
            "Epoch 154/200\n",
            "3/3 [==============================] - 0s 39ms/step - loss: 0.3761 - val_loss: 0.3996\n",
            "Epoch 155/200\n",
            "3/3 [==============================] - 0s 45ms/step - loss: 0.3734 - val_loss: 0.3984\n",
            "Epoch 156/200\n",
            "3/3 [==============================] - 0s 43ms/step - loss: 0.3707 - val_loss: 0.3964\n",
            "Epoch 157/200\n",
            "3/3 [==============================] - 0s 42ms/step - loss: 0.3683 - val_loss: 0.3947\n",
            "Epoch 158/200\n",
            "3/3 [==============================] - 0s 33ms/step - loss: 0.3663 - val_loss: 0.3922\n",
            "Epoch 159/200\n",
            "3/3 [==============================] - 0s 41ms/step - loss: 0.3638 - val_loss: 0.3909\n",
            "Epoch 160/200\n",
            "3/3 [==============================] - 0s 33ms/step - loss: 0.3617 - val_loss: 0.3887\n",
            "Epoch 161/200\n",
            "3/3 [==============================] - 0s 40ms/step - loss: 0.3592 - val_loss: 0.3870\n",
            "Epoch 162/200\n",
            "3/3 [==============================] - 0s 37ms/step - loss: 0.3571 - val_loss: 0.3858\n",
            "Epoch 163/200\n",
            "3/3 [==============================] - 0s 42ms/step - loss: 0.3550 - val_loss: 0.3843\n",
            "Epoch 164/200\n",
            "3/3 [==============================] - 0s 42ms/step - loss: 0.3525 - val_loss: 0.3829\n",
            "Epoch 165/200\n",
            "3/3 [==============================] - 0s 46ms/step - loss: 0.3510 - val_loss: 0.3816\n",
            "Epoch 166/200\n",
            "3/3 [==============================] - 0s 74ms/step - loss: 0.3490 - val_loss: 0.3811\n",
            "Epoch 167/200\n",
            "3/3 [==============================] - 0s 22ms/step - loss: 0.3460 - val_loss: 0.3785\n",
            "Epoch 168/200\n",
            "3/3 [==============================] - 0s 22ms/step - loss: 0.3439 - val_loss: 0.3770\n",
            "Epoch 169/200\n",
            "3/3 [==============================] - 0s 23ms/step - loss: 0.3424 - val_loss: 0.3758\n",
            "Epoch 170/200\n",
            "3/3 [==============================] - 0s 43ms/step - loss: 0.3396 - val_loss: 0.3744\n",
            "Epoch 171/200\n",
            "3/3 [==============================] - 0s 42ms/step - loss: 0.3381 - val_loss: 0.3715\n",
            "Epoch 172/200\n",
            "3/3 [==============================] - 0s 48ms/step - loss: 0.3358 - val_loss: 0.3703\n",
            "Epoch 173/200\n",
            "3/3 [==============================] - 0s 43ms/step - loss: 0.3337 - val_loss: 0.3698\n",
            "Epoch 174/200\n",
            "3/3 [==============================] - 0s 58ms/step - loss: 0.3315 - val_loss: 0.3683\n",
            "Epoch 175/200\n",
            "3/3 [==============================] - 0s 39ms/step - loss: 0.3297 - val_loss: 0.3675\n",
            "Epoch 176/200\n",
            "3/3 [==============================] - 0s 55ms/step - loss: 0.3280 - val_loss: 0.3654\n",
            "Epoch 177/200\n",
            "3/3 [==============================] - 0s 32ms/step - loss: 0.3255 - val_loss: 0.3644\n",
            "Epoch 178/200\n",
            "3/3 [==============================] - 0s 55ms/step - loss: 0.3240 - val_loss: 0.3637\n",
            "Epoch 179/200\n",
            "3/3 [==============================] - 0s 32ms/step - loss: 0.3217 - val_loss: 0.3624\n",
            "Epoch 180/200\n",
            "3/3 [==============================] - 0s 36ms/step - loss: 0.3203 - val_loss: 0.3612\n",
            "Epoch 181/200\n",
            "3/3 [==============================] - 0s 36ms/step - loss: 0.3181 - val_loss: 0.3606\n",
            "Epoch 182/200\n",
            "3/3 [==============================] - 0s 35ms/step - loss: 0.3167 - val_loss: 0.3590\n",
            "Epoch 183/200\n",
            "3/3 [==============================] - 0s 49ms/step - loss: 0.3151 - val_loss: 0.3590\n",
            "Epoch 184/200\n",
            "3/3 [==============================] - 0s 50ms/step - loss: 0.3122 - val_loss: 0.3578\n",
            "Epoch 185/200\n",
            "3/3 [==============================] - 0s 32ms/step - loss: 0.3107 - val_loss: 0.3574\n",
            "Epoch 186/200\n",
            "3/3 [==============================] - 0s 44ms/step - loss: 0.3086 - val_loss: 0.3563\n",
            "Epoch 187/200\n",
            "3/3 [==============================] - 0s 32ms/step - loss: 0.3067 - val_loss: 0.3558\n",
            "Epoch 188/200\n",
            "3/3 [==============================] - 0s 45ms/step - loss: 0.3047 - val_loss: 0.3543\n",
            "Epoch 189/200\n",
            "3/3 [==============================] - 0s 44ms/step - loss: 0.3034 - val_loss: 0.3533\n",
            "Epoch 190/200\n",
            "3/3 [==============================] - 0s 40ms/step - loss: 0.3022 - val_loss: 0.3540\n",
            "Epoch 191/200\n",
            "3/3 [==============================] - 0s 41ms/step - loss: 0.2999 - val_loss: 0.3515\n",
            "Epoch 192/200\n",
            "3/3 [==============================] - 0s 38ms/step - loss: 0.2983 - val_loss: 0.3509\n",
            "Epoch 193/200\n",
            "3/3 [==============================] - 0s 41ms/step - loss: 0.2961 - val_loss: 0.3506\n",
            "Epoch 194/200\n",
            "3/3 [==============================] - 0s 43ms/step - loss: 0.2948 - val_loss: 0.3503\n",
            "Epoch 195/200\n",
            "3/3 [==============================] - 0s 40ms/step - loss: 0.2925 - val_loss: 0.3489\n",
            "Epoch 196/200\n",
            "3/3 [==============================] - 0s 34ms/step - loss: 0.2914 - val_loss: 0.3476\n",
            "Epoch 197/200\n",
            "3/3 [==============================] - 0s 37ms/step - loss: 0.2891 - val_loss: 0.3473\n",
            "Epoch 198/200\n",
            "3/3 [==============================] - 0s 21ms/step - loss: 0.2881 - val_loss: 0.3462\n",
            "Epoch 199/200\n",
            "3/3 [==============================] - 0s 20ms/step - loss: 0.2867 - val_loss: 0.3469\n",
            "Epoch 200/200\n",
            "3/3 [==============================] - 0s 26ms/step - loss: 0.2853 - val_loss: 0.3442\n"
          ]
        }
      ]
    },
    {
      "cell_type": "code",
      "source": [
        "epochs = history.epoch\n",
        "loss = history.history['loss']\n",
        "val_loss = history.history['val_loss']\n",
        "\n",
        "plt.plot(epochs, loss, label=\"Train\")\n",
        "plt.plot(epochs, val_loss, label=\"Validation\")\n",
        "\n",
        "plt.legend()\n",
        "plt.title(\"Epochs vs Loss\")\n",
        "plt.show()"
      ],
      "metadata": {
        "colab": {
          "base_uri": "https://localhost:8080/",
          "height": 452
        },
        "id": "WNK0YJGgYlOv",
        "outputId": "f843561a-2b2c-40f8-daf5-476a2f78d9f9"
      },
      "execution_count": 49,
      "outputs": [
        {
          "output_type": "display_data",
          "data": {
            "text/plain": [
              "<Figure size 640x480 with 1 Axes>"
            ],
            "image/png": "[encoded data removed]"
          },
          "metadata": {}
        }
      ]
    },
    {
      "cell_type": "markdown",
      "source": [
        "**Observation**:\n",
        "*   For such a low loss, we need 200 epochs\n",
        "\n",
        "Imagine if dataset has millions of samples, it will require very high number of epochs to reach global minima. This surely will have huge drawback while deploying\n",
        "\n",
        "`Q.` Why Mini Batch has such a large epochs? <br>\n",
        "`A.` In many of the steps, optimizer tends to move in direction where it will never reach global minima. Hence due to this noisy steps. GD takes so many steps.\n",
        "<br><br>\n",
        "`Q.` Why do GD have noisy steps?<br>\n",
        "`A.` Because between every iteration(forward and backward), no information is shared. Due to this, some batch has very low loss and some has very high loss, making gradient of weights very high and low. Thus causing noisy steps.<br><br>\n",
        "\n",
        "`Q.` How to reduce epochs or noisy steps in GD?<br>\n",
        "`A.` By taking weight average (β) of previous steps and (1-β) of current gradient, to update the direction of steps such that it moves towards global minima. This method is also known as `exponential moving average` method<br><center>\n",
        "$V_t = βV_t-1 + (1-β)Δw_1$"
      ],
      "metadata": {
        "id": "UJaFwg40ZvWj"
      }
    },
    {
      "cell_type": "markdown",
      "source": [
        "##Gradient Descent with Momentum\n",
        "<br>\n",
        "Let's now train model with 50 epochs and 128 batch_size"
      ],
      "metadata": {
        "id": "hXIdETfQf7K0"
      }
    },
    {
      "cell_type": "code",
      "source": [
        "model_gdm = create_baseline()\n",
        "model_gdm.compile(optimizer=tf.keras.optimizers.SGD(momentum=0.9), loss=tf.keras.losses.CategoricalCrossentropy())"
      ],
      "metadata": {
        "id": "nZ6y3y1CZIcJ"
      },
      "execution_count": 55,
      "outputs": []
    },
    {
      "cell_type": "code",
      "source": [
        "history = model_gdm.fit(X_train, y_train, validation_data=(X_val, y_val),epochs=50, batch_size=128, verbose=0)"
      ],
      "metadata": {
        "id": "tyEiljbJjVtT"
      },
      "execution_count": 58,
      "outputs": []
    },
    {
      "cell_type": "code",
      "source": [
        "epochs = history.epoch\n",
        "loss = history.history['loss']\n",
        "val_loss = history.history['val_loss']\n",
        "\n",
        "plt.plot(epochs, loss, label=\"Train\")\n",
        "plt.plot(epochs, val_loss, label=\"Validation\")\n",
        "\n",
        "plt.legend()\n",
        "plt.title(\"Epochs vs Loss\")\n",
        "plt.show()"
      ],
      "metadata": {
        "colab": {
          "base_uri": "https://localhost:8080/",
          "height": 452
        },
        "id": "IDGdW0GTjndn",
        "outputId": "ada58578-51a3-4d74-cabf-0270e5900d6f"
      },
      "execution_count": 59,
      "outputs": [
        {
          "output_type": "display_data",
          "data": {
            "text/plain": [
              "<Figure size 640x480 with 1 Axes>"
            ],
            "image/png": "[encoded data removed]"
          },
          "metadata": {}
        }
      ]
    },
    {
      "cell_type": "markdown",
      "source": [
        "**Obervation:**\n",
        "Just by using gradient descent with momentum, model is able to perform much better in 25 epochs"
      ],
      "metadata": {
        "id": "ngAXTU-3kQEl"
      }
    },
    {
      "cell_type": "markdown",
      "source": [
        "##RMSProp"
      ],
      "metadata": {
        "id": "7jKoMDhfkl2Y"
      }
    },
    {
      "cell_type": "markdown",
      "source": [
        "`Q.` Is there a way to further reduce training epochs for model?<br>\n",
        "`A.` Yes, as we know :\n",
        "- optimizer tends to move in direction (osciallations) when gradient of weight is greater than the other\n",
        "- Meaning $ Δb >>> Δw $\n",
        "\n",
        "Hence to reduce this moving direction, lets say:\n",
        "\n",
        "On some iteration t, we calculate $V_{dw} $ by squaring the gradients as:\n",
        "- $V_{dw^k} = \\beta V_{dw^k} + (1-β) (dw^k)^2 $\n",
        "- $V_{db^k} = \\beta V_{db^k} + (1-β) (db^k)^2 $\n",
        "\n",
        "\n",
        "#### How is squaring useful ?\n",
        "Ans: as gradients in which the optimizer moves is higher then:\n",
        "- the square of the gradient will be much high\n",
        "- thus making $V_{db^k} > V_{dw^k}$\n",
        "\n",
        "<br>\n",
        "\n",
        "Now during weight updation:\n",
        "\n",
        "- $w^k = w^k - α \\times \\frac{dw^k}{\\sqrt{V_{dw^k}+ ϵ} } $; where $ϵ$ is a very small value  $ = 10^{-8}$\n",
        "- $b^k = b^k - α \\times \\frac{db^k}{\\sqrt{V_{db^k}+ ϵ} } $\n",
        "\n",
        "<br>\n",
        "\n",
        "Since $V_{db^k} > V_{dw^k}$,\n",
        "- meaning $\\frac{1}{V_{dw^k}} > \\frac{1}{V_{db^k}} $\n",
        "\n",
        "Thus making the  optimizer to move more in the direction of $dw^k$:\n",
        "- hence decreasing  osciallations of the optimizer\n",
        "\n",
        "<br>\n",
        "\n",
        "#### Why is epilson $ϵ$ added ?\n",
        "Ans: To prevent the denominator to become 0:\n",
        "- When $V_{dw}$ or $V_{db}$ is 0\n",
        "\n",
        "<br>\n",
        "\n",
        "**Note:** This approach is known as **RMSprop**"
      ],
      "metadata": {
        "id": "ir6ELFF5kolL"
      }
    },
    {
      "cell_type": "markdown",
      "source": [
        "Training the model with epoch = 50 and batch size = 128"
      ],
      "metadata": {
        "id": "6WssiXy9mGWO"
      }
    },
    {
      "cell_type": "code",
      "source": [
        "model_rms = create_baseline()\n",
        "model_rms.compile(optimizer=tf.keras.optimizers.RMSprop(rho=0.9),\n",
        "                  loss=tf.keras.losses.CategoricalCrossentropy())\n"
      ],
      "metadata": {
        "id": "aEAE4-bDjuMp"
      },
      "execution_count": 63,
      "outputs": []
    },
    {
      "cell_type": "code",
      "source": [
        "history = model_rms.fit(X_train, y_train, validation_data=(X_val, y_val),epochs=50, batch_size=128, verbose=0)"
      ],
      "metadata": {
        "id": "vzK4x1tZl9dL"
      },
      "execution_count": 64,
      "outputs": []
    },
    {
      "cell_type": "code",
      "source": [
        "epochs = history.epoch\n",
        "loss = history.history['loss']\n",
        "val_loss = history.history[\"val_loss\"]\n",
        "\n",
        "plt.plot(epochs, loss, label='Train')\n",
        "plt.plot(epochs, val_loss, label='Validation')\n",
        "\n",
        "plt.legend()\n",
        "plt.title(\"Epochs vs Loss\")\n",
        "\n",
        "plt.show()"
      ],
      "metadata": {
        "colab": {
          "base_uri": "https://localhost:8080/",
          "height": 452
        },
        "id": "ZwSP9cepmRBl",
        "outputId": "b5179577-da83-4b94-e656-f1848b3fe66c"
      },
      "execution_count": 66,
      "outputs": [
        {
          "output_type": "display_data",
          "data": {
            "text/plain": [
              "<Figure size 640x480 with 1 Axes>"
            ],
            "image/png": "[encoded data removed]"
          },
          "metadata": {}
        }
      ]
    },
    {
      "cell_type": "markdown",
      "source": [
        "**Observe**\n",
        "\n",
        "Though RMSProp reaches minima within 10 training epochs:\n",
        "- we see a lot of oscillations than Gradient Descent with momentum\n",
        "- meaning the optimizer still takes steps in the direction not to the global minima\n"
      ],
      "metadata": {
        "id": "o8y4s3UenEOD"
      }
    },
    {
      "cell_type": "markdown",
      "source": [
        "##Adam"
      ],
      "metadata": {
        "id": "bosoz8QqnC2q"
      }
    },
    {
      "cell_type": "markdown",
      "source": [
        "#### is there a way to reduce these oscillations while still keeping the training epochs low ?\n",
        "\n",
        "Ans: if we combine both RMSprop and momentum, this is done by an alogrithm called **Adam**\n",
        "\n",
        "<br>\n",
        "\n",
        "#### How does Adam work ?\n",
        "Ans: Now for simplicity:\n",
        "- Lets call RMSprop $V_{dw}, V_{db}$ as $S_{dw}, S_{db}$\n",
        "\n",
        "Therefore now for some iteration t:\n",
        "- We compute $dW$, $db$\n",
        "\n",
        "then for Momentum we can say:\n",
        "\n",
        "- $V_{dw^k} = \\beta_1 V_{dw^k} + (1-\\beta_1) dw^k $\n",
        "\n",
        "Similarly,\n",
        "- $V_{db^k} = \\beta_1 V_{db^k} + (1-\\beta_1) db^k $\n",
        "\n",
        "<br>\n",
        "\n",
        "\n",
        "After performing momentum ,RMSprop is calculated as:\n",
        "- $S_{dw^k} = \\beta_2 S_{dw^k} + (1-\\beta_2) (dw^k)^2 $\n",
        "\n",
        "Similarly\n",
        "- $S_{db^k} = \\beta_2 S_{db^k} + (1-\\beta_2) (db^k)^2 $\n",
        "\n",
        "<br>\n",
        "\n",
        "\n"
      ],
      "metadata": {
        "id": "BpkL6to7noJE"
      }
    },
    {
      "cell_type": "markdown",
      "source": [
        "As momentum and RMSprop both averages out,  the steps taken by Optimizer,\n",
        "- then for step:$V_3$, the average out value is more influenced by $V_0, V_1, V_2$\n",
        "- which makes the average value of $V_3$ biased and far away from the actual $V_3$\n",
        "\n",
        "<br>"
      ],
      "metadata": {
        "id": "R4yHO2xunr5x"
      }
    },
    {
      "cell_type": "markdown",
      "source": [
        "\n",
        "\n",
        "\n",
        "#### How to prevent this biasness ?\n",
        "Ans: it is done by dividing $V_{dw^k}$, $V_{db^k}$ by:\n",
        "- $V^{corrected}_{dw^k} = \\frac{V_{dw^k}}{1-β_1^t}$\n",
        "\n",
        "Similarly:\n",
        "- $V^{corrected}_{db^k} = \\frac{V_{db^k}}{1-β_1^t}$\n",
        "\n",
        "and for RMSprop:\n",
        "\n",
        "- $S^{corrected}_{dw^k} = \\frac{S_{dw^k}}{1-β_2^t}$\n",
        "\n",
        "Similarly:\n",
        "- $S^{corrected}_{db^k} = \\frac{S_{db^k}}{1-β_2^t}$\n",
        "\n",
        "**Note:** this process is called as **Bias Correction**\n",
        "\n",
        "\n",
        "<br>\n",
        "\n",
        "Now finally, weights updation is performed:\n",
        "\n",
        "- $w^k = w^k - α \\times  \\frac{1}{\\sqrt{S^{corrected}_{dw}+ ϵ}} \\times V^{corrected}_{dw}$\n",
        "\n",
        "- $b^k = b^k - α \\times  \\frac{1}{\\sqrt{S^{corrected}_{db}+ ϵ}} \\times V^{corrected}_{db}$\n",
        "\n",
        "\n"
      ],
      "metadata": {
        "id": "848-eGg5nvns"
      }
    },
    {
      "cell_type": "markdown",
      "source": [
        "Training the model with epoch = 50 and batch size = 128"
      ],
      "metadata": {
        "id": "gdJtp53In6Bt"
      }
    },
    {
      "cell_type": "code",
      "source": [
        "model_adam = create_baseline()\n",
        "model_adam.compile(optimizer=tf.keras.optimizers.Adam(beta_1=0.9, beta_2=0.999),\n",
        "             loss=tf.keras.losses.CategoricalCrossentropy())"
      ],
      "metadata": {
        "id": "tuplU6wRm6dw"
      },
      "execution_count": 74,
      "outputs": []
    },
    {
      "cell_type": "code",
      "source": [
        "history = model_adam.fit(X_train, y_train, validation_data=(X_val, y_val), epochs=50, batch_size=128, verbose=0)"
      ],
      "metadata": {
        "id": "G_2XnZG6oTz5"
      },
      "execution_count": 75,
      "outputs": []
    },
    {
      "cell_type": "code",
      "source": [
        "epochs = history.epoch\n",
        "loss = history.history['loss']\n",
        "val_loss = history.history[\"val_loss\"]\n",
        "\n",
        "plt.plot(epochs, loss, label='Train')\n",
        "plt.plot(epochs, val_loss, label='Validation')\n",
        "\n",
        "plt.legend()\n",
        "plt.title(\"Epochs vs Loss\")\n",
        "\n",
        "plt.show()"
      ],
      "metadata": {
        "colab": {
          "base_uri": "https://localhost:8080/",
          "height": 452
        },
        "id": "po5vliCCohlD",
        "outputId": "dcde7846-c455-4061-dfcf-a34352653959"
      },
      "execution_count": 76,
      "outputs": [
        {
          "output_type": "display_data",
          "data": {
            "text/plain": [
              "<Figure size 640x480 with 1 Axes>"
            ],
            "image/png": "[encoded data removed]"
          },
          "metadata": {}
        }
      ]
    },
    {
      "cell_type": "markdown",
      "source": [
        "#### Learning Rate Decay\n",
        "\n",
        "**Observe**\n",
        "\n",
        "How using Adam algorithm,\n",
        "- the oscillations are reduced drastically\n",
        "- also the model takes almost 12 epochs for it to show accruate results\n",
        "- But the model performance on the validation is still high\n",
        "\n",
        "<br>\n",
        "\n",
        "#### Is there a way to improve model performance  ?\n",
        "\n",
        "Ans: recall how optimizer tends on moving around the global minima:\n",
        "- if the learning rate is high\n",
        "\n",
        "#### Will a learning rate of 0.01 high for our problem ?\n",
        "Ans: As using different Optimizers,\n",
        "- The validation loss moves around 0.4\n",
        "- it means the optimizer is stuck around the global minima\n",
        "\n",
        "\n",
        "#### But what happens if learning rate is smaller ?\n",
        "Ans: The number of steps increases\n",
        "- And the model will require more epochs to reach global minima\n",
        "\n",
        "<br>\n",
        "\n",
        "#### How to make optimizer take small number of steps and still reach global minima ?\n",
        "\n",
        "Ans: what if we keep a high learning rate intially ($\\alpha_0$)\n",
        "- and Learning rate decreases with each epoch($e$) by a rate $r_0$\n",
        "\n",
        "This is called as Learning rate decay, defined as:\n",
        "- for epoch in epochs:\n",
        "- $\\alpha = \\frac{1}{1 + r_0 \\times epoch } \\times \\alpha_0 $\n",
        "- $\\alpha_0 = \\alpha $\n",
        "\n",
        "<br>\n",
        "\n",
        "#### When to implement Learning rate decay, should it be done before or after an epoch ?\n",
        "Ans: After an epoch by using:\n",
        "- Tensorflow callback\n",
        "\n",
        "<br>\n",
        "\n",
        "Lets now implement Learning Rate decay using [LearningRateScheduler](https://keras.io/api/callbacks/learning_rate_scheduler/)\n",
        "\n"
      ],
      "metadata": {
        "id": "R5hlD3w8piDR"
      }
    },
    {
      "cell_type": "code",
      "source": [
        "from tensorflow.keras.callbacks import LearningRateScheduler"
      ],
      "metadata": {
        "id": "EIZtt6G1oubd"
      },
      "execution_count": 77,
      "outputs": []
    },
    {
      "cell_type": "code",
      "source": [
        "def scheduler(epochs, lr):\n",
        "  r0 = 0.01\n",
        "  lr = (1/(1+r0*epochs))*lr\n",
        "  return lr"
      ],
      "metadata": {
        "id": "TAY9fENUp2X7"
      },
      "execution_count": 78,
      "outputs": []
    },
    {
      "cell_type": "code",
      "source": [
        "LRdecay = LearningRateScheduler(scheduler)"
      ],
      "metadata": {
        "id": "7wjrE5KaqJ7u"
      },
      "execution_count": 79,
      "outputs": []
    },
    {
      "cell_type": "code",
      "source": [
        "model_adam = create_baseline()\n",
        "model_adam.compile(optimizer=tf.keras.optimizers.Adam(beta_1=0.9, beta_2=0.999),\n",
        "                   loss=tf.keras.losses.CategoricalCrossentropy())"
      ],
      "metadata": {
        "id": "K-pdYDWhqRcO"
      },
      "execution_count": 80,
      "outputs": []
    },
    {
      "cell_type": "code",
      "source": [
        "history = model_adam.fit(X_train, y_train, validation_data = (X_val, y_val),  epochs=50, batch_size=128,callbacks=[LRdecay], verbose = 0)"
      ],
      "metadata": {
        "id": "DbuB78k8qpnI"
      },
      "execution_count": 81,
      "outputs": []
    },
    {
      "cell_type": "code",
      "source": [
        "epochs = history.epoch\n",
        "loss = history.history[\"loss\"]\n",
        "val_loss = history.history[\"val_loss\"]\n",
        "\n",
        "\n",
        "plt.plot(epochs, loss, label=\"train\")\n",
        "plt.plot(epochs, val_loss, label=\"validation\")\n",
        "\n",
        "plt.legend()\n",
        "plt.title(\"Loss VS Epochs\")\n",
        "\n",
        "plt.show()\n",
        "\n"
      ],
      "metadata": {
        "colab": {
          "base_uri": "https://localhost:8080/",
          "height": 452
        },
        "id": "bqLjBky9qtfH",
        "outputId": "4e551200-0982-47b7-d367-2aaa17c322ba"
      },
      "execution_count": 82,
      "outputs": [
        {
          "output_type": "display_data",
          "data": {
            "text/plain": [
              "<Figure size 640x480 with 1 Axes>"
            ],
            "image/png": "[encoded data removed]"
          },
          "metadata": {}
        }
      ]
    },
    {
      "cell_type": "markdown",
      "source": [
        "**observe**\n",
        "\n",
        "How by using Learning Rate decay,\n",
        "- the model reaches a loss of around 0.4 now\n",
        "- Showing that reducing the Learning Rate did help improve model performance\n",
        "\n",
        "\n"
      ],
      "metadata": {
        "id": "ngIy3Qvfqy5w"
      }
    }
  ]
}