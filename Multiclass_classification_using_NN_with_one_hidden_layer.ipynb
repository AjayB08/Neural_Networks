{
  "nbformat": 4,
  "nbformat_minor": 0,
  "metadata": {
    "colab": {
      "provenance": [],
      "collapsed_sections": [
        "DqDDjT8GHNU4"
      ],
      "authorship_tag": "ABX9TyMvNOj1nBPTnlaBBnieBLTx",
      "include_colab_link": true
    },
    "kernelspec": {
      "name": "python3",
      "display_name": "Python 3"
    },
    "language_info": {
      "name": "python"
    }
  },
  "cells": [
    {
      "cell_type": "markdown",
      "metadata": {
        "id": "view-in-github",
        "colab_type": "text"
      },
      "source": [
        "<a href=\"https://colab.research.google.com/github/AjayB08/Neural_Networks/blob/main/Multiclass_classification_using_NN_with_one_hidden_layer.ipynb\" target=\"_parent\"><img src=\"https://colab.research.google.com/assets/colab-badge.svg\" alt=\"Open In Colab\"/></a>"
      ]
    },
    {
      "cell_type": "code",
      "execution_count": null,
      "metadata": {
        "id": "oZNoP_EX8Ycq"
      },
      "outputs": [],
      "source": [
        "import numpy as np\n",
        "import pandas as pd\n",
        "import matplotlib.pyplot as plt\n",
        "import seaborn as sns"
      ]
    },
    {
      "cell_type": "code",
      "source": [
        "#Download data from google drive\n",
        "!gdown 1dLOPwh01o3k8p_hK633ixhD1ehz6nNWk"
      ],
      "metadata": {
        "colab": {
          "base_uri": "https://localhost:8080/"
        },
        "id": "3oZDtzVo80nI",
        "outputId": "a6748807-fb7b-420b-e046-869deffc41c2"
      },
      "execution_count": null,
      "outputs": [
        {
          "output_type": "stream",
          "name": "stdout",
          "text": [
            "Downloading...\n",
            "From: https://drive.google.com/uc?id=1dLOPwh01o3k8p_hK633ixhD1ehz6nNWk\n",
            "To: /content/spiral.csv\n",
            "\r  0% 0.00/12.9k [00:00<?, ?B/s]\r100% 12.9k/12.9k [00:00<00:00, 49.5MB/s]\n"
          ]
        }
      ]
    },
    {
      "cell_type": "code",
      "source": [
        "#Read data and store into dataframe\n",
        "df = pd.read_csv(\"spiral.csv\")\n",
        "df.head(5)"
      ],
      "metadata": {
        "colab": {
          "base_uri": "https://localhost:8080/",
          "height": 206
        },
        "id": "ZppnOH8t85OJ",
        "outputId": "b12e56cf-76a4-4c06-8d15-38c8f6ed84ea"
      },
      "execution_count": null,
      "outputs": [
        {
          "output_type": "execute_result",
          "data": {
            "text/plain": [
              "         x1        x2  y\n",
              "0  0.000000  0.000000  0\n",
              "1 -0.000650  0.010080  0\n",
              "2  0.009809  0.017661  0\n",
              "3  0.007487  0.029364  0\n",
              "4 -0.000027  0.040404  0"
            ],
            "text/html": [
              "\n",
              "\n",
              "  <div id=\"df-a2fb95ee-900d-4525-b6ec-d8598e6e3af2\">\n",
              "    <div class=\"colab-df-container\">\n",
              "      <div>\n",
              "<style scoped>\n",
              "    .dataframe tbody tr th:only-of-type {\n",
              "        vertical-align: middle;\n",
              "    }\n",
              "\n",
              "    .dataframe tbody tr th {\n",
              "        vertical-align: top;\n",
              "    }\n",
              "\n",
              "    .dataframe thead th {\n",
              "        text-align: right;\n",
              "    }\n",
              "</style>\n",
              "<table border=\"1\" class=\"dataframe\">\n",
              "  <thead>\n",
              "    <tr style=\"text-align: right;\">\n",
              "      <th></th>\n",
              "      <th>x1</th>\n",
              "      <th>x2</th>\n",
              "      <th>y</th>\n",
              "    </tr>\n",
              "  </thead>\n",
              "  <tbody>\n",
              "    <tr>\n",
              "      <th>0</th>\n",
              "      <td>0.000000</td>\n",
              "      <td>0.000000</td>\n",
              "      <td>0</td>\n",
              "    </tr>\n",
              "    <tr>\n",
              "      <th>1</th>\n",
              "      <td>-0.000650</td>\n",
              "      <td>0.010080</td>\n",
              "      <td>0</td>\n",
              "    </tr>\n",
              "    <tr>\n",
              "      <th>2</th>\n",
              "      <td>0.009809</td>\n",
              "      <td>0.017661</td>\n",
              "      <td>0</td>\n",
              "    </tr>\n",
              "    <tr>\n",
              "      <th>3</th>\n",
              "      <td>0.007487</td>\n",
              "      <td>0.029364</td>\n",
              "      <td>0</td>\n",
              "    </tr>\n",
              "    <tr>\n",
              "      <th>4</th>\n",
              "      <td>-0.000027</td>\n",
              "      <td>0.040404</td>\n",
              "      <td>0</td>\n",
              "    </tr>\n",
              "  </tbody>\n",
              "</table>\n",
              "</div>\n",
              "      <button class=\"colab-df-convert\" onclick=\"convertToInteractive('df-a2fb95ee-900d-4525-b6ec-d8598e6e3af2')\"\n",
              "              title=\"Convert this dataframe to an interactive table.\"\n",
              "              style=\"display:none;\">\n",
              "\n",
              "  <svg xmlns=\"http://www.w3.org/2000/svg\" height=\"24px\"viewBox=\"0 0 24 24\"\n",
              "       width=\"24px\">\n",
              "    <path d=\"M0 0h24v24H0V0z\" fill=\"none\"/>\n",
              "    <path d=\"M18.56 5.44l.94 2.06.94-2.06 2.06-.94-2.06-.94-.94-2.06-.94 2.06-2.06.94zm-11 1L8.5 8.5l.94-2.06 2.06-.94-2.06-.94L8.5 2.5l-.94 2.06-2.06.94zm10 10l.94 2.06.94-2.06 2.06-.94-2.06-.94-.94-2.06-.94 2.06-2.06.94z\"/><path d=\"M17.41 7.96l-1.37-1.37c-.4-.4-.92-.59-1.43-.59-.52 0-1.04.2-1.43.59L10.3 9.45l-7.72 7.72c-.78.78-.78 2.05 0 2.83L4 21.41c.39.39.9.59 1.41.59.51 0 1.02-.2 1.41-.59l7.78-7.78 2.81-2.81c.8-.78.8-2.07 0-2.86zM5.41 20L4 18.59l7.72-7.72 1.47 1.35L5.41 20z\"/>\n",
              "  </svg>\n",
              "      </button>\n",
              "\n",
              "\n",
              "\n",
              "    <div id=\"df-1282696e-b07b-4cb1-bdb4-f49ab7c7b202\">\n",
              "      <button class=\"colab-df-quickchart\" onclick=\"quickchart('df-1282696e-b07b-4cb1-bdb4-f49ab7c7b202')\"\n",
              "              title=\"Suggest charts.\"\n",
              "              style=\"display:none;\">\n",
              "\n",
              "<svg xmlns=\"http://www.w3.org/2000/svg\" height=\"24px\"viewBox=\"0 0 24 24\"\n",
              "     width=\"24px\">\n",
              "    <g>\n",
              "        <path d=\"M19 3H5c-1.1 0-2 .9-2 2v14c0 1.1.9 2 2 2h14c1.1 0 2-.9 2-2V5c0-1.1-.9-2-2-2zM9 17H7v-7h2v7zm4 0h-2V7h2v10zm4 0h-2v-4h2v4z\"/>\n",
              "    </g>\n",
              "</svg>\n",
              "      </button>\n",
              "    </div>\n",
              "\n",
              "<style>\n",
              "  .colab-df-quickchart {\n",
              "    background-color: #E8F0FE;\n",
              "    border: none;\n",
              "    border-radius: 50%;\n",
              "    cursor: pointer;\n",
              "    display: none;\n",
              "    fill: #1967D2;\n",
              "    height: 32px;\n",
              "    padding: 0 0 0 0;\n",
              "    width: 32px;\n",
              "  }\n",
              "\n",
              "  .colab-df-quickchart:hover {\n",
              "    background-color: #E2EBFA;\n",
              "    box-shadow: 0px 1px 2px rgba(60, 64, 67, 0.3), 0px 1px 3px 1px rgba(60, 64, 67, 0.15);\n",
              "    fill: #174EA6;\n",
              "  }\n",
              "\n",
              "  [theme=dark] .colab-df-quickchart {\n",
              "    background-color: #3B4455;\n",
              "    fill: #D2E3FC;\n",
              "  }\n",
              "\n",
              "  [theme=dark] .colab-df-quickchart:hover {\n",
              "    background-color: #434B5C;\n",
              "    box-shadow: 0px 1px 3px 1px rgba(0, 0, 0, 0.15);\n",
              "    filter: drop-shadow(0px 1px 2px rgba(0, 0, 0, 0.3));\n",
              "    fill: #FFFFFF;\n",
              "  }\n",
              "</style>\n",
              "\n",
              "    <script>\n",
              "      async function quickchart(key) {\n",
              "        const containerElement = document.querySelector('#' + key);\n",
              "        const charts = await google.colab.kernel.invokeFunction(\n",
              "            'suggestCharts', [key], {});\n",
              "      }\n",
              "    </script>\n",
              "\n",
              "      <script>\n",
              "\n",
              "function displayQuickchartButton(domScope) {\n",
              "  let quickchartButtonEl =\n",
              "    domScope.querySelector('#df-1282696e-b07b-4cb1-bdb4-f49ab7c7b202 button.colab-df-quickchart');\n",
              "  quickchartButtonEl.style.display =\n",
              "    google.colab.kernel.accessAllowed ? 'block' : 'none';\n",
              "}\n",
              "\n",
              "        displayQuickchartButton(document);\n",
              "      </script>\n",
              "      <style>\n",
              "    .colab-df-container {\n",
              "      display:flex;\n",
              "      flex-wrap:wrap;\n",
              "      gap: 12px;\n",
              "    }\n",
              "\n",
              "    .colab-df-convert {\n",
              "      background-color: #E8F0FE;\n",
              "      border: none;\n",
              "      border-radius: 50%;\n",
              "      cursor: pointer;\n",
              "      display: none;\n",
              "      fill: #1967D2;\n",
              "      height: 32px;\n",
              "      padding: 0 0 0 0;\n",
              "      width: 32px;\n",
              "    }\n",
              "\n",
              "    .colab-df-convert:hover {\n",
              "      background-color: #E2EBFA;\n",
              "      box-shadow: 0px 1px 2px rgba(60, 64, 67, 0.3), 0px 1px 3px 1px rgba(60, 64, 67, 0.15);\n",
              "      fill: #174EA6;\n",
              "    }\n",
              "\n",
              "    [theme=dark] .colab-df-convert {\n",
              "      background-color: #3B4455;\n",
              "      fill: #D2E3FC;\n",
              "    }\n",
              "\n",
              "    [theme=dark] .colab-df-convert:hover {\n",
              "      background-color: #434B5C;\n",
              "      box-shadow: 0px 1px 3px 1px rgba(0, 0, 0, 0.15);\n",
              "      filter: drop-shadow(0px 1px 2px rgba(0, 0, 0, 0.3));\n",
              "      fill: #FFFFFF;\n",
              "    }\n",
              "  </style>\n",
              "\n",
              "      <script>\n",
              "        const buttonEl =\n",
              "          document.querySelector('#df-a2fb95ee-900d-4525-b6ec-d8598e6e3af2 button.colab-df-convert');\n",
              "        buttonEl.style.display =\n",
              "          google.colab.kernel.accessAllowed ? 'block' : 'none';\n",
              "\n",
              "        async function convertToInteractive(key) {\n",
              "          const element = document.querySelector('#df-a2fb95ee-900d-4525-b6ec-d8598e6e3af2');\n",
              "          const dataTable =\n",
              "            await google.colab.kernel.invokeFunction('convertToInteractive',\n",
              "                                                     [key], {});\n",
              "          if (!dataTable) return;\n",
              "\n",
              "          const docLinkHtml = 'Like what you see? Visit the ' +\n",
              "            '<a target=\"_blank\" href=https://colab.research.google.com/notebooks/data_table.ipynb>data table notebook</a>'\n",
              "            + ' to learn more about interactive tables.';\n",
              "          element.innerHTML = '';\n",
              "          dataTable['output_type'] = 'display_data';\n",
              "          await google.colab.output.renderOutput(dataTable, element);\n",
              "          const docLink = document.createElement('div');\n",
              "          docLink.innerHTML = docLinkHtml;\n",
              "          element.appendChild(docLink);\n",
              "        }\n",
              "      </script>\n",
              "    </div>\n",
              "  </div>\n"
            ]
          },
          "metadata": {},
          "execution_count": 51
        }
      ]
    },
    {
      "cell_type": "code",
      "source": [
        "# scatter plot input attributes based on y attributes\n",
        "plt.scatter(df[\"x1\"], df[\"x2\"], c=df[\"y\"], s=40, cmap=plt.cm.Spectral)\n",
        "plt.show()"
      ],
      "metadata": {
        "colab": {
          "base_uri": "https://localhost:8080/",
          "height": 435
        },
        "id": "Vr68_OtAGh6b",
        "outputId": "5e85debf-02ec-4243-d93a-4c81ecc2a268"
      },
      "execution_count": null,
      "outputs": [
        {
          "output_type": "display_data",
          "data": {
            "text/plain": [
              "<Figure size 640x480 with 1 Axes>"
            ],
            "image/png": "[encoded data removed]"
          },
          "metadata": {}
        }
      ]
    },
    {
      "cell_type": "code",
      "source": [
        "#Separate feature and label column\n",
        "x = df.iloc[:,:-1].to_numpy()\n",
        "y = df.iloc[:,-1].to_numpy()\n",
        "\n",
        "print(\"feature dimensions : \", x.shape, \" label dimensions : \", y.shape)"
      ],
      "metadata": {
        "colab": {
          "base_uri": "https://localhost:8080/"
        },
        "id": "iYbsXr4L9PLN",
        "outputId": "e0a6e420-41f1-4d67-d5c8-a3a428d00e1a"
      },
      "execution_count": null,
      "outputs": [
        {
          "output_type": "stream",
          "name": "stdout",
          "text": [
            "feature dimensions :  (300, 2)  label dimensions :  (300,)\n"
          ]
        }
      ]
    },
    {
      "cell_type": "code",
      "source": [
        "#Calculate shape\n",
        "d = x.shape[1] #Number of features\n",
        "m = x.shape[0] #Number of datapoints /samples\n",
        "n = len(np.unique(y)) #Number of labels/output categories\n",
        "h = 4 # Number of lables in hidden layer\n",
        "print(f\"Features: {d}, Samples : {m}, Lables : {n}\")"
      ],
      "metadata": {
        "colab": {
          "base_uri": "https://localhost:8080/"
        },
        "id": "CT1GXoja_JcW",
        "outputId": "7a61873d-30ad-432a-baad-a52548f50837"
      },
      "execution_count": null,
      "outputs": [
        {
          "output_type": "stream",
          "name": "stdout",
          "text": [
            "Features: 2, Samples : 300, Lables : 3\n"
          ]
        }
      ]
    },
    {
      "cell_type": "markdown",
      "source": [
        "*   Here we are considering 4 labels in hidden layer.\n",
        "*   We have 2 feature as input and 4 labels for the hidden layer. So, total weights for hidden layer (2x4) = 8 and bias = 4\n",
        "*   In the output layer we have 3 labels and 4 inputs. So, total weigths for output layer (4x3) = 12 and bias = 3\n",
        "\n",
        "*   We are using ReLU as activation function for hidden layer and softmax as activation function for output layer.\n",
        "\n",
        "\n",
        "\n",
        "\n",
        "\n"
      ],
      "metadata": {
        "id": "NpnTcG_4-NoA"
      }
    },
    {
      "cell_type": "code",
      "source": [
        "#Intialize parameters randomly\n",
        "w1 = 0.01*np.random.randn(d,h)\n",
        "b1 = np.zeros((1,h))\n",
        "w2 = 0.01*np.random.randn(h,n)\n",
        "b2 = np.zeros((1,n))"
      ],
      "metadata": {
        "id": "Ddo7PauR92Po"
      },
      "execution_count": null,
      "outputs": []
    },
    {
      "cell_type": "markdown",
      "source": [
        "##Forward Propogation"
      ],
      "metadata": {
        "id": "DqDDjT8GHNU4"
      }
    },
    {
      "cell_type": "code",
      "source": [
        "#Calculate Z1 and A1\n",
        "Z1 = np.dot(x, w1) + b1 #(300,2)*(2,4) + (1,4) => (300,4)\n",
        "A1 = np.maximum(0, Z1) #ReLU, if Z1 < 0 then A1 = 0 else A1 = Z1"
      ],
      "metadata": {
        "id": "KQM7C4b0Gft0"
      },
      "execution_count": null,
      "outputs": []
    },
    {
      "cell_type": "code",
      "source": [
        "#Calculate Z2 and A2\n",
        "Z2 = np.dot(A1, w2) + b2 # (300,4)*(4,3) + (1,3) => (300,3)\n",
        "exp_z = np.exp(Z2)\n",
        "A2 = exp_z/np.sum(exp_z, axis=1, keepdims=True) #Applying softmax as actibation function for output layer"
      ],
      "metadata": {
        "id": "caWQfio2InDe"
      },
      "execution_count": null,
      "outputs": []
    },
    {
      "cell_type": "code",
      "source": [
        "probs = A2"
      ],
      "metadata": {
        "id": "xLg_Ef36JOe9"
      },
      "execution_count": null,
      "outputs": []
    },
    {
      "cell_type": "markdown",
      "source": [
        "##Backword Propogation"
      ],
      "metadata": {
        "id": "stPBK_ZkKTin"
      }
    },
    {
      "cell_type": "code",
      "source": [
        "#Calculate dZ2\n",
        "#dZ2 = (pi - I(i=y)) =>  simulation of One hot encoding for labels\n",
        "dZ2 = probs\n",
        "dZ2[range(m), y] -= 1\n",
        "\n",
        "print(dZ2.shape)"
      ],
      "metadata": {
        "colab": {
          "base_uri": "https://localhost:8080/"
        },
        "id": "K2HFbTOtKRgx",
        "outputId": "e71bae81-a38b-443c-e315-d565653dcdfc"
      },
      "execution_count": null,
      "outputs": [
        {
          "output_type": "stream",
          "name": "stdout",
          "text": [
            "(300, 3)\n"
          ]
        }
      ]
    },
    {
      "cell_type": "markdown",
      "source": [
        "dw2 shape should be same as w2, i.e (4,3). We know that shape of dZ2 = (300, 3) and shape of A1 = (300,4). So, to do matrix multiplication of dZ2 and A1 to get w2's shape, we need to transpose A1 and then perform dot product."
      ],
      "metadata": {
        "id": "tjSWzrt4LmLq"
      }
    },
    {
      "cell_type": "code",
      "source": [
        "#Calculate dw2 and db2\n",
        "#dw2 = dZ2*A1 and db2 = dZ2\n",
        "dw2 = np.dot(A1.T, dZ2) /m #divide by m, because we are using GD and as per formula Wnew = W - lr*summation(dw)/m\n",
        "db2 = np.sum(dZ2, axis=0, keepdims=True)/m"
      ],
      "metadata": {
        "id": "4Ktk2-7cK86Z"
      },
      "execution_count": null,
      "outputs": []
    },
    {
      "cell_type": "code",
      "source": [
        "#Calculate dA1\n",
        "#dA1 = dZ2*W2\n",
        "dA1 = np.dot(dZ2, w2.T) # (300,4)*(4,3) => (300,3)"
      ],
      "metadata": {
        "id": "mr0CUD0HNXux"
      },
      "execution_count": null,
      "outputs": []
    },
    {
      "cell_type": "code",
      "source": [
        "#Calculate dZ1\n",
        "#dZ1 = dA1*d/dZ1((ReLU(Z1))) => d/dZ1(ReLu(Z1)) is 0 for 0 else 1 for z1\n",
        "dZ1 = dA1\n",
        "dZ1[Z1<=0] =0"
      ],
      "metadata": {
        "id": "l3H217URPDXn"
      },
      "execution_count": null,
      "outputs": []
    },
    {
      "cell_type": "code",
      "source": [
        "#Calculate dw1 and db1\n",
        "#dw1 = dz1*x = db1 = dz1\n",
        "dw1 = np.dot(x.T, dZ1)/m  #(2,300)*(300,4) => (2,4)\n",
        "db1 = np.sum(dZ1, axis=0, keepdims=True)/m"
      ],
      "metadata": {
        "id": "BPqepDGWQMHU"
      },
      "execution_count": null,
      "outputs": []
    },
    {
      "cell_type": "code",
      "source": [
        "#Update parameter\n",
        "lr = 0.1 #learing rate\n",
        "w1 += -lr*dw1\n",
        "b1 += -lr*db1\n",
        "w2 += -lr*dw2\n",
        "b2 += -lr*db2\n",
        "\n",
        "print(f\"New w1 : {w1}, New b1 : {b1}, New w2 : {w2}, New b2 : {b2}\")"
      ],
      "metadata": {
        "colab": {
          "base_uri": "https://localhost:8080/"
        },
        "id": "jTYze_8QQ-s7",
        "outputId": "7deb4d44-c10d-4f4b-de86-6fe4c825410f"
      },
      "execution_count": null,
      "outputs": [
        {
          "output_type": "stream",
          "name": "stdout",
          "text": [
            "New w1 : [[-0.01606301 -0.01063101 -0.00810312  0.01226729]\n",
            " [-0.01670315 -0.01279693  0.00655324  0.01045616]], New b1 : [[-4.49681133e-05  3.31586094e-05 -9.65977859e-05 -2.16746045e-04]], New w2 : [[-0.00777971 -0.01185835 -0.01550089]\n",
            " [ 0.0044565  -0.00889723 -0.00070699]\n",
            " [ 0.00840947 -0.00260866 -0.00146738]\n",
            " [-0.01916445  0.00046398  0.02008234]], New b2 : [[ 3.70074521e-08  9.41602731e-07 -9.78610183e-07]]\n"
          ]
        }
      ]
    },
    {
      "cell_type": "markdown",
      "source": [
        "#NN Class"
      ],
      "metadata": {
        "id": "6qAdmUHwSiE7"
      }
    },
    {
      "cell_type": "code",
      "source": [
        "class NN:\n",
        "  def __init__(self, n_features, n_hidden, n_classes):\n",
        "    self.d = n_features\n",
        "    self.h = n_hidden\n",
        "    self.n = n_classes\n",
        "    self.w1 = 0.01*np.random.randn(self.d,self.h)\n",
        "    self.b1 = np.zeros((1,self.h))\n",
        "    self.w2 = 0.01*np.random.randn(self.h,self.n)\n",
        "    self.b2 = np.zeros((1,self.n))\n",
        "\n",
        "  def fwd_prop(self, x):\n",
        "    Z1 = np.dot(x, self.w1) + self.b1\n",
        "    A1 = np.maximum(0,Z1)\n",
        "    Z2 = np.dot(A1, self.w2) + self.b2\n",
        "    exp_z = np.exp(Z2)\n",
        "    A2 = exp_z/np.sum(exp_z, axis=1, keepdims=True)\n",
        "    return A1, A2\n",
        "\n",
        "  def back_prop(self, x, A1, A2, y):\n",
        "    total_samples = y.shape[0]\n",
        "    dZ2 = A2\n",
        "    dZ2[range(total_samples), y] -= 1\n",
        "    dZ2 /= total_samples\n",
        "    dw2 = np.dot(A1.T, dZ2)\n",
        "    db2 = np.sum(dZ2, axis=0, keepdims=True)\n",
        "    dA1 = np.dot(dZ2, self.w2.T)\n",
        "    dA1[A1<=0] = 0\n",
        "    dZ1 = dA1\n",
        "    dw1 = np.dot(x.T, dZ1)\n",
        "    db1 = np.sum(dZ1, axis=0, keepdims=True)\n",
        "    return dw1, db1, dw2, db2\n",
        "\n",
        "  def cce_loss(self, y, probs):\n",
        "    total_samples = y.shape[0]\n",
        "    correct_logprobs = -np.log(probs[range(total_samples), y])\n",
        "    loss = np.sum(correct_logprobs)/total_samples\n",
        "    return loss\n",
        "\n",
        "  def predict(self, x):\n",
        "    A1 = np.maximum(0, np.dot(x, self.w1) + self.b1)\n",
        "    Z2 = np.dot(A1, self.w2) + self.b2\n",
        "    y_hat = np.argmax(Z2, axis=1)\n",
        "    return y_hat\n",
        "\n",
        "  def fit(self, x, lr, reg, max_iters):\n",
        "    total_samples = x.shape[0]\n",
        "    for i in range(max_iters):\n",
        "      #forward propogation\n",
        "      A1, A2 = self.fwd_prop(x)\n",
        "\n",
        "      #Calculate loss\n",
        "      data_loss = self.cce_loss(y,A2)\n",
        "      reg_loss = 0.5*reg*np.sum(self.w1*self.w1) + 0.5*reg*np.sum(self.w2*self.w2)\n",
        "      total_loss = data_loss + reg_loss\n",
        "\n",
        "      if i % 1000 == 0:\n",
        "        print(\"iteration %d: loss %f\" % (i, total_loss))\n",
        "\n",
        "      #Backward propogation\n",
        "      dw1, db1, dw2, db2 = self.back_prop(x, A1, A2, y)\n",
        "\n",
        "      # add regularization gradient contribution\n",
        "      dw2 += reg * self.w2\n",
        "      dw1 += reg * self.w1\n",
        "\n",
        "      #Update parameters\n",
        "      self.w1 += -lr*dw1\n",
        "      self.b1 += -lr*db1\n",
        "      self.w2 += -lr*dw2\n",
        "      self.b2 += -lr*db2\n"
      ],
      "metadata": {
        "id": "sgqggrp0R0zM"
      },
      "execution_count": null,
      "outputs": []
    },
    {
      "cell_type": "code",
      "source": [
        "nn_model = NN(n_features=2, n_hidden=100, n_classes=3)\n",
        "nn_model.fit(x, lr=1, reg=1e-3, max_iters=10000)\n",
        "print('training accuracy: %.2f' % (np.mean(nn_model.predict(x) == y)))"
      ],
      "metadata": {
        "colab": {
          "base_uri": "https://localhost:8080/"
        },
        "id": "tsaHhpQOXBT4",
        "outputId": "b94dda26-2747-4b3d-b7aa-dbe09078abab"
      },
      "execution_count": null,
      "outputs": [
        {
          "output_type": "stream",
          "name": "stdout",
          "text": [
            "iteration 0: loss 1.098709\n",
            "iteration 1000: loss 0.320793\n",
            "iteration 2000: loss 0.252694\n",
            "iteration 3000: loss 0.248852\n",
            "iteration 4000: loss 0.248083\n",
            "iteration 5000: loss 0.247530\n",
            "iteration 6000: loss 0.247268\n",
            "iteration 7000: loss 0.247141\n",
            "iteration 8000: loss 0.247071\n",
            "iteration 9000: loss 0.247043\n",
            "training accuracy: 0.99\n"
          ]
        }
      ]
    },
    {
      "cell_type": "markdown",
      "source": [
        "###Counter plot result"
      ],
      "metadata": {
        "id": "ZZh1EVKoTqVg"
      }
    },
    {
      "cell_type": "code",
      "source": [
        "#Create 2-D grid\n",
        "step=0.02\n",
        "x_min, x_max = x[:,0].min()-1, x[:,0].max()+1\n",
        "y_min, y_max = x[:,1].min()-1, x[:,1].max()+1\n",
        "xx, yy = np.meshgrid(np.arange(x_min, x_max, step), np.arange(y_min, y_max, step))"
      ],
      "metadata": {
        "id": "csZwhmQxQnQG"
      },
      "execution_count": null,
      "outputs": []
    },
    {
      "cell_type": "code",
      "source": [
        "#Predicts all points in the grid\n",
        "y_hat = nn_model.predict(np.c_[xx.ravel(), yy.ravel()])\n",
        "y_hat = y_hat.reshape(xx.shape)"
      ],
      "metadata": {
        "id": "TazdxxzeUfrQ"
      },
      "execution_count": null,
      "outputs": []
    },
    {
      "cell_type": "code",
      "source": [
        "plt.figure()\n",
        "plt.contourf(xx, yy, y_hat, cmp=plt.cm.Spectral, alpha=0.8)\n",
        "plt.scatter(x[:,0], x[:,1], c=y, s=40, cmap=plt.cm.Spectral)\n",
        "plt.xlim(xx.min(), xx.max())\n",
        "plt.ylim(yy.min(), yy.max())\n",
        "plt.show()"
      ],
      "metadata": {
        "colab": {
          "base_uri": "https://localhost:8080/",
          "height": 465
        },
        "id": "TDlRmy0qWDOR",
        "outputId": "f7fccfe3-f19a-4d15-8c86-e2efaecb0aa4"
      },
      "execution_count": null,
      "outputs": [
        {
          "output_type": "stream",
          "name": "stderr",
          "text": [
            "<ipython-input-88-701e8e9e26bb>:2: UserWarning: The following kwargs were not used by contour: 'cmp'\n",
            "  plt.contourf(xx, yy, y_hat, cmp=plt.cm.Spectral, alpha=0.8)\n"
          ]
        },
        {
          "output_type": "display_data",
          "data": {
            "text/plain": [
              "<Figure size 640x480 with 1 Axes>"
            ],
            "image/png": "[encoded data removed]"
          },
          "metadata": {}
        }
      ]
    }
  ]
}